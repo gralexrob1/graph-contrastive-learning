{
 "cells": [
  {
   "cell_type": "markdown",
   "metadata": {},
   "source": [
    "# Data retrieval\n",
    "\n",
    "*Problem*  \n",
    "The 'data' object was created by an older version of PyG  \n",
    "> https://github.com/pyg-team/pytorch_geometric/discussions/5179\n",
    "\n",
    "- Install PyG 1.7.2  \n",
    "- Load the data as usual and re-save them as dictionaries: torch.save(torch.load('data.pt').to_dict(), 'data_dict.pt')  \n",
    "- Install PyG 2.*  \n",
    "- Load the data and convert it to new data objects: Data.from_dict(torch.load('data_dict.pt'))"
   ]
  },
  {
   "cell_type": "markdown",
   "metadata": {},
   "source": [
    "### Load data with old version of torch-geometric and save it as dict\n"
   ]
  },
  {
   "cell_type": "code",
   "execution_count": null,
   "metadata": {},
   "outputs": [],
   "source": [
    "!pip install torch==2.0.0+cpu -f https://download.pytorch.org/whl/torch_stable.html\n",
    "!pip install torch-geometric==1.7.2\n",
    "!pip install torch-scatter torch-sparse -f https://data.pyg.org/whl/torch-2.0.0+cpu.html -v"
   ]
  },
  {
   "cell_type": "code",
   "execution_count": 9,
   "metadata": {},
   "outputs": [],
   "source": [
    "import os\n",
    "import torch"
   ]
  },
  {
   "cell_type": "code",
   "execution_count": 31,
   "metadata": {},
   "outputs": [],
   "source": [
    "source_folder = '../data/LR_PPI_small/processed_old_version'\n",
    "target_folder = '../data/LR_PPI_small/processed_as_dict'\n",
    "\n",
    "for file in os.listdir(source_folder):\n",
    "\n",
    "    if not os.path.exists(target_folder):\n",
    "        try:\n",
    "            os.makedirs(target_folder)\n",
    "            print(f\"Le dossier '{target_folder}' a été créé avec succès.\")\n",
    "        except OSError as e:\n",
    "            print(f\"Erreur lors de la création du dossier '{target_folder}': {e}\")\n",
    "\n",
    "    torch.save(\n",
    "        torch.load(os.path.join(source_folder, file)).to_dict(), \n",
    "        os.path.join(target_folder, file)\n",
    "    )"
   ]
  },
  {
   "cell_type": "code",
   "execution_count": null,
   "metadata": {},
   "outputs": [],
   "source": [
    "source_folder = \"../data/LR_PPI/processed_old_version/\"\n",
    "target_folder = \"../data/LR_PPI/processed_as_dict\"\n",
    "\n",
    "for file in os.listdir(source_folder):\n",
    "    print(file)\n",
    "\n",
    "    if not os.path.exists(target_folder):\n",
    "        try:\n",
    "            os.makedirs(target_folder)\n",
    "            print(f\"Le dossier '{target_folder}' a été créé avec succès.\")\n",
    "        except OSError as e:\n",
    "            print(f\"Erreur lors de la création du dossier '{target_folder}': {e}\")\n",
    "\n",
    "    torch.save(\n",
    "        torch.load(os.path.join(source_folder, file)).to_dict(),\n",
    "        os.path.join(target_folder, file),\n",
    "    )"
   ]
  },
  {
   "cell_type": "markdown",
   "metadata": {},
   "source": [
    "### Load data save as dict in recent version of torch-geometric and save it"
   ]
  },
  {
   "cell_type": "markdown",
   "metadata": {},
   "source": [
    "**change environment**"
   ]
  },
  {
   "cell_type": "code",
   "execution_count": 1,
   "metadata": {},
   "outputs": [],
   "source": [
    "import os \n",
    "import torch\n",
    "from torch_geometric.data import Data"
   ]
  },
  {
   "cell_type": "code",
   "execution_count": 7,
   "metadata": {},
   "outputs": [],
   "source": [
    "source_folder = '../data/LR_PPI_small/processed_as_dict/'\n",
    "target_folder = '../data/LR_PPI_small/processed'\n",
    "\n",
    "for file in os.listdir(source_folder):\n",
    "\n",
    "    if not os.path.exists(target_folder):\n",
    "        try:\n",
    "            os.makedirs(target_folder)\n",
    "            print(f\"Le dossier '{target_folder}' a été créé avec succès.\")\n",
    "        except OSError as e:\n",
    "            print(f\"Erreur lors de la création du dossier '{target_folder}': {e}\")\n",
    "\n",
    "    torch.save(\n",
    "        Data.from_dict(torch.load(os.path.join(source_folder, file))),\n",
    "        os.path.join(target_folder, file)\n",
    "    )"
   ]
  },
  {
   "cell_type": "code",
   "execution_count": 8,
   "metadata": {},
   "outputs": [
    {
     "name": "stdout",
     "output_type": "stream",
     "text": [
      "Le dossier '../data/LR_PPI/processed' a été créé avec succès.\n"
     ]
    }
   ],
   "source": [
    "source_folder = '../data/LR_PPI/processed_as_dict/'\n",
    "target_folder = '../data/LR_PPI/processed'\n",
    "\n",
    "for file in os.listdir(source_folder):\n",
    "\n",
    "    if not os.path.exists(target_folder):\n",
    "        try:\n",
    "            os.makedirs(target_folder)\n",
    "            print(f\"Le dossier '{target_folder}' a été créé avec succès.\")\n",
    "        except OSError as e:\n",
    "            print(f\"Erreur lors de la création du dossier '{target_folder}': {e}\")\n",
    "\n",
    "    torch.save(\n",
    "        Data.from_dict(torch.load(os.path.join(source_folder, file))),\n",
    "        os.path.join(target_folder, file)\n",
    "    )"
   ]
  }
 ],
 "metadata": {
  "kernelspec": {
   "display_name": "gcl-py311-cu121",
   "language": "python",
   "name": "python3"
  },
  "language_info": {
   "codemirror_mode": {
    "name": "ipython",
    "version": 3
   },
   "file_extension": ".py",
   "mimetype": "text/x-python",
   "name": "python",
   "nbconvert_exporter": "python",
   "pygments_lexer": "ipython3",
   "version": "3.11.8"
  }
 },
 "nbformat": 4,
 "nbformat_minor": 2
}
