{
 "cells": [
  {
   "cell_type": "markdown",
   "metadata": {},
   "source": [
    "# Imports"
   ]
  },
  {
   "cell_type": "code",
   "execution_count": 1,
   "metadata": {},
   "outputs": [],
   "source": [
    "import sys\n",
    "\n",
    "sys.path.append(\"../src\")\n",
    "\n",
    "from pipeline import GCLPipeline\n",
    "\n",
    "import os\n",
    "import os.path as osp\n",
    "import logging\n",
    "import json\n",
    "import pandas as pd\n",
    "\n",
    "import torch\n",
    "import torch_geometric.transforms as T\n",
    "\n",
    "from torch.optim import Adam\n",
    "\n",
    "from tqdm import tqdm\n",
    "\n",
    "import logging\n",
    "import warnings\n",
    "\n",
    "warnings.filterwarnings(\"ignore\")\n",
    "\n",
    "logger = logging.getLogger(__name__)\n",
    "logging.basicConfig(\n",
    "    format=\"%(asctime)s %(levelname)s:%(message)s\", level=logging.DEBUG, datefmt=\"%I:%M:%S\"\n",
    ")\n",
    "\n",
    "\n",
    "DATA_FOLDER = \"../data\"\n",
    "BENCHMARK_FOLDER = \"../benchmark\"\n",
    "\n",
    "OUTPUT_FOLDER = \"../output\""
   ]
  },
  {
   "cell_type": "markdown",
   "metadata": {},
   "source": [
    "# Strategies"
   ]
  },
  {
   "cell_type": "code",
   "execution_count": 2,
   "metadata": {},
   "outputs": [],
   "source": [
    "# STRATEGIES = json.load(open(osp.join(BENCHMARK_FOLDER, \"augmentation-benchmark-graphcl-infonce.json\")))\n",
    "# STRATEGIES = json.load(open(osp.join(BENCHMARK_FOLDER, \"augmentation-benchmark-graphcl-jsd.json\")))\n",
    "# STRATEGIES = json.load(open(osp.join(BENCHMARK_FOLDER, \"augmentation-benchmark-graphcl-barlow.json\")))\n",
    "# STRATEGIES = json.load(open(osp.join(BENCHMARK_FOLDER, \"augmentation-benchmark-graphcl-bootstrap.json\")))\n",
    "\n",
    "# STRATEGIES = json.load(open(osp.join(BENCHMARK_FOLDER, \"loss-benchmark-dgi.json\")))\n",
    "# STRATEGIES = json.load(open(osp.join(BENCHMARK_FOLDER, \"loss-benchmark-infograph.json\")))\n",
    "\n",
    "# STRATEGIES = json.load(open(osp.join(BENCHMARK_FOLDER, \"benchmark-grace-ogb.json\")))\n",
    "# STRATEGIES = json.load(open(osp.join(BENCHMARK_FOLDER, \"benchmark-grace.json\")))\n"
   ]
  },
  {
   "cell_type": "code",
   "execution_count": 3,
   "metadata": {},
   "outputs": [
    {
     "name": "stdout",
     "output_type": "stream",
     "text": [
      "|===========================================================================|\n",
      "|                  PyTorch CUDA memory summary, device ID 0                 |\n",
      "|---------------------------------------------------------------------------|\n",
      "|            CUDA OOMs: 0            |        cudaMalloc retries: 0         |\n",
      "|===========================================================================|\n",
      "|        Metric         | Cur Usage  | Peak Usage | Tot Alloc  | Tot Freed  |\n",
      "|---------------------------------------------------------------------------|\n",
      "| Allocated memory      |      0 B   |      0 B   |      0 B   |      0 B   |\n",
      "|       from large pool |      0 B   |      0 B   |      0 B   |      0 B   |\n",
      "|       from small pool |      0 B   |      0 B   |      0 B   |      0 B   |\n",
      "|---------------------------------------------------------------------------|\n",
      "| Active memory         |      0 B   |      0 B   |      0 B   |      0 B   |\n",
      "|       from large pool |      0 B   |      0 B   |      0 B   |      0 B   |\n",
      "|       from small pool |      0 B   |      0 B   |      0 B   |      0 B   |\n",
      "|---------------------------------------------------------------------------|\n",
      "| Requested memory      |      0 B   |      0 B   |      0 B   |      0 B   |\n",
      "|       from large pool |      0 B   |      0 B   |      0 B   |      0 B   |\n",
      "|       from small pool |      0 B   |      0 B   |      0 B   |      0 B   |\n",
      "|---------------------------------------------------------------------------|\n",
      "| GPU reserved memory   |      0 B   |      0 B   |      0 B   |      0 B   |\n",
      "|       from large pool |      0 B   |      0 B   |      0 B   |      0 B   |\n",
      "|       from small pool |      0 B   |      0 B   |      0 B   |      0 B   |\n",
      "|---------------------------------------------------------------------------|\n",
      "| Non-releasable memory |      0 B   |      0 B   |      0 B   |      0 B   |\n",
      "|       from large pool |      0 B   |      0 B   |      0 B   |      0 B   |\n",
      "|       from small pool |      0 B   |      0 B   |      0 B   |      0 B   |\n",
      "|---------------------------------------------------------------------------|\n",
      "| Allocations           |       0    |       0    |       0    |       0    |\n",
      "|       from large pool |       0    |       0    |       0    |       0    |\n",
      "|       from small pool |       0    |       0    |       0    |       0    |\n",
      "|---------------------------------------------------------------------------|\n",
      "| Active allocs         |       0    |       0    |       0    |       0    |\n",
      "|       from large pool |       0    |       0    |       0    |       0    |\n",
      "|       from small pool |       0    |       0    |       0    |       0    |\n",
      "|---------------------------------------------------------------------------|\n",
      "| GPU reserved segments |       0    |       0    |       0    |       0    |\n",
      "|       from large pool |       0    |       0    |       0    |       0    |\n",
      "|       from small pool |       0    |       0    |       0    |       0    |\n",
      "|---------------------------------------------------------------------------|\n",
      "| Non-releasable allocs |       0    |       0    |       0    |       0    |\n",
      "|       from large pool |       0    |       0    |       0    |       0    |\n",
      "|       from small pool |       0    |       0    |       0    |       0    |\n",
      "|---------------------------------------------------------------------------|\n",
      "| Oversize allocations  |       0    |       0    |       0    |       0    |\n",
      "|---------------------------------------------------------------------------|\n",
      "| Oversize GPU segments |       0    |       0    |       0    |       0    |\n",
      "|===========================================================================|\n",
      "\n"
     ]
    }
   ],
   "source": [
    "CONFIG = STRATEGIES[\"config\"]\n",
    "TRY_GPU = CONFIG[\"try_gpu\"]\n",
    "DEVICE = torch.device(\"cuda\" if torch.cuda.is_available() and TRY_GPU else \"cpu\")\n",
    "\n",
    "torch.cuda.empty_cache()\n",
    "print(torch.cuda.memory_summary())"
   ]
  },
  {
   "cell_type": "markdown",
   "metadata": {},
   "source": [
    "# Run"
   ]
  },
  {
   "cell_type": "code",
   "execution_count": 25,
   "metadata": {},
   "outputs": [
    {
     "name": "stderr",
     "output_type": "stream",
     "text": [
      "08:30:58 INFO:{'########## INFOGRAPH - G2L - InfoNCE ##########'}\n",
      "08:30:58 INFO:CALL GCLPipeline.from_strategy\n",
      "08:30:58 INFO:\t Method: InfoGraph\n",
      "08:30:58 INFO:\t Augmentation strategy 1: None\n",
      "08:30:58 INFO:\t Augmentation strategy 2: None\n",
      "08:30:58 INFO:Augmentations: [None, None]\n",
      "08:30:58 INFO:CALL GCLPipeline.init_dataset\n",
      "08:30:58 DEBUG:open file: c:/Users/alexa/Documents/Visual Studio Code/graph-contrastive-learning/data/PTC_MR/processed/data.pt\n",
      "08:30:58 INFO:\t Number of features: 18\n",
      "08:30:58 INFO:CALL GCLPipeline.init_encoder\n",
      "08:30:58 INFO:\t Input dimension: 18\n",
      "08:30:58 INFO:\t Hidden dimension: 32\n",
      "08:30:58 INFO:\t Number of layers: 2\n",
      "08:30:58 INFO:\t Projection dimension: None\n",
      "08:30:58 INFO:\t Activation: ReLU\n",
      "(T):   0%|          | 0/100 [00:00<?, ?it/s]"
     ]
    },
    {
     "name": "stderr",
     "output_type": "stream",
     "text": [
      "100%|██████████| 100/100 [00:06<00:00, 15.40it/s]t/s, loss=14.9]\n",
      "(T): 100%|██████████| 100/100 [00:06<00:00, 15.40it/s, loss=14.9]\n",
      "08:31:05 INFO:{'########## INFOGRAPH - G2L - JSD ##########'}\n",
      "08:31:05 INFO:CALL GCLPipeline.from_strategy\n",
      "08:31:05 INFO:\t Method: InfoGraph\n",
      "08:31:05 INFO:\t Augmentation strategy 1: None\n",
      "08:31:05 INFO:\t Augmentation strategy 2: None\n",
      "08:31:05 INFO:Augmentations: [None, None]\n",
      "08:31:05 INFO:CALL GCLPipeline.init_dataset\n",
      "08:31:05 DEBUG:open file: c:/Users/alexa/Documents/Visual Studio Code/graph-contrastive-learning/data/PTC_MR/processed/data.pt\n",
      "08:31:05 INFO:\t Number of features: 18\n",
      "08:31:05 INFO:CALL GCLPipeline.init_encoder\n",
      "08:31:05 INFO:\t Input dimension: 18\n",
      "08:31:05 INFO:\t Hidden dimension: 32\n",
      "08:31:05 INFO:\t Number of layers: 2\n",
      "08:31:05 INFO:\t Projection dimension: None\n",
      "08:31:05 INFO:\t Activation: ReLU\n"
     ]
    },
    {
     "name": "stdout",
     "output_type": "stream",
     "text": [
      "(E): Best test F1Mi=0.4000, F1Ma=0.3921\n"
     ]
    },
    {
     "name": "stderr",
     "output_type": "stream",
     "text": [
      "100%|██████████| 100/100 [00:06<00:00, 15.27it/s]it/s, loss=-2.03] \n",
      "(T): 100%|██████████| 100/100 [00:06<00:00, 15.27it/s, loss=-2.03]\n",
      "08:31:12 INFO:{'########## INFOGRAPH - G2L - BootstrapLatent ##########'}\n",
      "08:31:12 INFO:CALL GCLPipeline.from_strategy\n",
      "08:31:12 INFO:\t Method: InfoGraph\n",
      "08:31:12 INFO:\t Augmentation strategy 1: None\n",
      "08:31:12 INFO:\t Augmentation strategy 2: None\n",
      "08:31:12 INFO:Augmentations: [None, None]\n",
      "08:31:12 INFO:CALL GCLPipeline.init_dataset\n",
      "08:31:12 DEBUG:open file: c:/Users/alexa/Documents/Visual Studio Code/graph-contrastive-learning/data/PTC_MR/processed/data.pt\n",
      "08:31:12 INFO:\t Number of features: 18\n",
      "08:31:12 INFO:CALL GCLPipeline.init_encoder\n",
      "08:31:12 INFO:\t Input dimension: 18\n",
      "08:31:12 INFO:\t Hidden dimension: 32\n",
      "08:31:12 INFO:\t Number of layers: 2\n",
      "08:31:12 INFO:\t Projection dimension: None\n",
      "08:31:12 INFO:\t Activation: ReLU\n"
     ]
    },
    {
     "name": "stdout",
     "output_type": "stream",
     "text": [
      "(E): Best test F1Mi=0.6286, F1Ma=0.6081\n"
     ]
    },
    {
     "name": "stderr",
     "output_type": "stream",
     "text": [
      "100%|██████████| 100/100 [00:06<00:00, 15.89it/s]t/s, loss=-42.3]\n",
      "(T): 100%|██████████| 100/100 [00:06<00:00, 15.89it/s, loss=-42.3]\n"
     ]
    },
    {
     "name": "stdout",
     "output_type": "stream",
     "text": [
      "(E): Best test F1Mi=0.3714, F1Ma=0.2708\n"
     ]
    }
   ],
   "source": [
    "outputs = []\n",
    "\n",
    "for strategy in STRATEGIES[\"strategies\"]:\n",
    "\n",
    "    logger.info({strategy[\"_descr\"]})\n",
    "\n",
    "    # Initialization\n",
    "    pipeline = GCLPipeline.from_strategy(strategy, DEVICE)\n",
    "\n",
    "    # Data\n",
    "    dataset, num_features = GCLPipeline.init_dataset(\n",
    "        strategy[\"dataset\"], DATA_FOLDER, T.NormalizeFeatures(), strategy[\"batch_size\"]\n",
    "    )\n",
    "\n",
    "    # Encoder\n",
    "    encoder_params = strategy[\"encoder_params\"]\n",
    "    encoder_params[\"input_dim\"] = num_features\n",
    "    encoder_model = pipeline.init_encoder(encoder_params, DEVICE)\n",
    "\n",
    "    # Training\n",
    "    train_params = strategy[\"train_params\"]\n",
    "    lr = train_params[\"learning_rate\"]\n",
    "    epochs = train_params[\"epochs\"]\n",
    "\n",
    "    optimizer = Adam(encoder_model.parameters(), lr=lr)\n",
    "    losses = []\n",
    "\n",
    "    with tqdm(total=epochs, desc=\"(T)\") as pbar:\n",
    "        for epoch in tqdm(range(1, epochs + 1)):\n",
    "            loss = pipeline.train_epoch(encoder_model, dataset, optimizer, DEVICE)\n",
    "            pbar.set_postfix({\"loss\": loss})\n",
    "\n",
    "            pbar.update()\n",
    "\n",
    "    test_result = pipeline.test(encoder_model, dataset, DEVICE)\n",
    "    print(f'(E): Best test F1Mi={test_result[\"micro_f1\"]:.4f}, F1Ma={test_result[\"macro_f1\"]:.4f}')\n",
    "\n",
    "    outputs.append(\n",
    "        {   \n",
    "            \"Data\": strategy[\"dataset\"],\n",
    "            \"Method\": strategy[\"method\"],\n",
    "            \"Archi\": strategy[\"architecture\"],\n",
    "            \"Mode\": strategy[\"mode\"],\n",
    "            \"Obj\": strategy[\"objective\"],\n",
    "            \"Neg\": strategy[\"negative\"],\n",
    "            \"Aug1\": (\n",
    "                None if strategy[\"augmentation1\"] is None \n",
    "                else\n",
    "                strategy[\"augmentation1\"][\"name\"]\n",
    "                if isinstance(strategy[\"augmentation1\"], dict)\n",
    "                else ', '.join([a[\"name\"] for a in strategy[\"augmentation1\"]])\n",
    "            ),\n",
    "            \"Aug1Strat\": strategy[\"augmentation1_strat\"],\n",
    "            \"Aug2\": (\n",
    "                None if strategy[\"augmentation1\"] is None\n",
    "                else \n",
    "                strategy[\"augmentation2\"][\"name\"]\n",
    "                if isinstance(strategy[\"augmentation2\"], dict)\n",
    "                else ', '.join([a[\"name\"] for a in strategy[\"augmentation2\"]])\n",
    "            ),\n",
    "            \"Aug2Strat\": strategy[\"augmentation2_strat\"],\n",
    "            \"MicroF1\": test_result[\"micro_f1\"].round(2),\n",
    "            \"MacroF1\": test_result[\"macro_f1\"].round(2),\n",
    "        }\n",
    "    )"
   ]
  },
  {
   "cell_type": "markdown",
   "metadata": {},
   "source": [
    "# Result DataFrame"
   ]
  },
  {
   "cell_type": "code",
   "execution_count": 26,
   "metadata": {},
   "outputs": [
    {
     "data": {
      "text/html": [
       "<div>\n",
       "<style scoped>\n",
       "    .dataframe tbody tr th:only-of-type {\n",
       "        vertical-align: middle;\n",
       "    }\n",
       "\n",
       "    .dataframe tbody tr th {\n",
       "        vertical-align: top;\n",
       "    }\n",
       "\n",
       "    .dataframe thead th {\n",
       "        text-align: right;\n",
       "    }\n",
       "</style>\n",
       "<table border=\"1\" class=\"dataframe\">\n",
       "  <thead>\n",
       "    <tr style=\"text-align: right;\">\n",
       "      <th></th>\n",
       "      <th>Data</th>\n",
       "      <th>Method</th>\n",
       "      <th>Archi</th>\n",
       "      <th>Mode</th>\n",
       "      <th>Obj</th>\n",
       "      <th>Neg</th>\n",
       "      <th>Aug1</th>\n",
       "      <th>Aug1Strat</th>\n",
       "      <th>Aug2</th>\n",
       "      <th>Aug2Strat</th>\n",
       "      <th>MicroF1</th>\n",
       "      <th>MacroF1</th>\n",
       "    </tr>\n",
       "  </thead>\n",
       "  <tbody>\n",
       "    <tr>\n",
       "      <th>0</th>\n",
       "      <td>PTC_MR</td>\n",
       "      <td>InfoGraph</td>\n",
       "      <td>SingleBranch</td>\n",
       "      <td>G2L</td>\n",
       "      <td>InfoNCE</td>\n",
       "      <td>None</td>\n",
       "      <td>None</td>\n",
       "      <td>None</td>\n",
       "      <td>None</td>\n",
       "      <td>None</td>\n",
       "      <td>0.40</td>\n",
       "      <td>0.39</td>\n",
       "    </tr>\n",
       "    <tr>\n",
       "      <th>1</th>\n",
       "      <td>PTC_MR</td>\n",
       "      <td>InfoGraph</td>\n",
       "      <td>SingleBranch</td>\n",
       "      <td>G2L</td>\n",
       "      <td>JSD</td>\n",
       "      <td>None</td>\n",
       "      <td>None</td>\n",
       "      <td>None</td>\n",
       "      <td>None</td>\n",
       "      <td>None</td>\n",
       "      <td>0.63</td>\n",
       "      <td>0.61</td>\n",
       "    </tr>\n",
       "    <tr>\n",
       "      <th>2</th>\n",
       "      <td>PTC_MR</td>\n",
       "      <td>InfoGraph</td>\n",
       "      <td>SingleBranch</td>\n",
       "      <td>G2L</td>\n",
       "      <td>BootstrapLatent</td>\n",
       "      <td>None</td>\n",
       "      <td>None</td>\n",
       "      <td>None</td>\n",
       "      <td>None</td>\n",
       "      <td>None</td>\n",
       "      <td>0.37</td>\n",
       "      <td>0.27</td>\n",
       "    </tr>\n",
       "  </tbody>\n",
       "</table>\n",
       "</div>"
      ],
      "text/plain": [
       "     Data     Method         Archi Mode              Obj   Neg  Aug1  \\\n",
       "0  PTC_MR  InfoGraph  SingleBranch  G2L          InfoNCE  None  None   \n",
       "1  PTC_MR  InfoGraph  SingleBranch  G2L              JSD  None  None   \n",
       "2  PTC_MR  InfoGraph  SingleBranch  G2L  BootstrapLatent  None  None   \n",
       "\n",
       "  Aug1Strat  Aug2 Aug2Strat  MicroF1  MacroF1  \n",
       "0      None  None      None     0.40     0.39  \n",
       "1      None  None      None     0.63     0.61  \n",
       "2      None  None      None     0.37     0.27  "
      ]
     },
     "execution_count": 26,
     "metadata": {},
     "output_type": "execute_result"
    }
   ],
   "source": [
    "output_df = pd.DataFrame(outputs)\n",
    "output_df"
   ]
  },
  {
   "cell_type": "markdown",
   "metadata": {},
   "source": [
    "# Saving"
   ]
  },
  {
   "cell_type": "code",
   "execution_count": 27,
   "metadata": {},
   "outputs": [
    {
     "data": {
      "text/plain": [
       "'../output\\\\loss_benchmark_infograph.csv'"
      ]
     },
     "execution_count": 27,
     "metadata": {},
     "output_type": "execute_result"
    }
   ],
   "source": [
    "# output_file = \"output.csv\"\n",
    "\n",
    "# output_file = \"augmentation_benchmark_graphcl_infonce.csv\"\n",
    "# output_file = \"augmentation_benchmark_graphcl_jsd.csv\"\n",
    "# output_file = \"augmentation_benchmark_graphcl_barlow.csv\"\n",
    "# output_file = \"augmentation_benchmark_graphcl_bootstrap.csv\"\n",
    "\n",
    "# output_file = \"loss_benchmark_dgi.csv\"\n",
    "# output_file = \"loss_benchmark_infograph.csv\"\n",
    "\n",
    "output_path = osp.join(OUTPUT_FOLDER, output_file)\n",
    "output_path"
   ]
  },
  {
   "cell_type": "code",
   "execution_count": 28,
   "metadata": {},
   "outputs": [],
   "source": [
    "# Deleting output file\n",
    "# DO NOT REMOVE BEFORE MAKING A COPY\n",
    "# os.remove(OUTPUT_PATH)"
   ]
  },
  {
   "cell_type": "code",
   "execution_count": 29,
   "metadata": {},
   "outputs": [],
   "source": [
    "# Adding rows\n",
    "output_df.to_csv(output_path, mode='a', header=not osp.exists(output_path), index=False)"
   ]
  }
 ],
 "metadata": {
  "kernelspec": {
   "display_name": "gcl-py311-cu121",
   "language": "python",
   "name": "python3"
  },
  "language_info": {
   "codemirror_mode": {
    "name": "ipython",
    "version": 3
   },
   "file_extension": ".py",
   "mimetype": "text/x-python",
   "name": "python",
   "nbconvert_exporter": "python",
   "pygments_lexer": "ipython3",
   "version": "3.11.8"
  }
 },
 "nbformat": 4,
 "nbformat_minor": 2
}
