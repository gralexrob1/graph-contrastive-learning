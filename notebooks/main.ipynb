{
 "cells": [
  {
   "cell_type": "code",
   "execution_count": 3,
   "metadata": {},
   "outputs": [],
   "source": [
    "import sys\n",
    "sys.path.append('../src')\n",
    "from pipeline import GCLPipeline\n",
    "\n",
    "import os.path as osp\n",
    "import json\n",
    "\n",
    "import torch\n",
    "import torch_geometric.transforms as T\n",
    "\n",
    "from torch.optim import Adam\n",
    "\n",
    "from tqdm import tqdm \n",
    "\n",
    "import warnings\n",
    "warnings.filterwarnings(\"ignore\", category=FutureWarning)\n",
    "\n",
    "DATA_PATH = \"../data\"\n",
    "BENCHMARK_PATH = \"../benchmark\""
   ]
  },
  {
   "cell_type": "code",
   "execution_count": 4,
   "metadata": {},
   "outputs": [],
   "source": [
    "STRATEGIES = json.load(open(osp.join(BENCHMARK_PATH, \"benchmark.json\")))\n",
    "CONFIG = STRATEGIES[\"config\"]\n",
    "TRY_GPU = CONFIG[\"try_gpu\"]\n",
    "DEVICE = torch.device(\"cuda\" if torch.cuda.is_available() and TRY_GPU else \"cpu\")"
   ]
  },
  {
   "cell_type": "code",
   "execution_count": 5,
   "metadata": {},
   "outputs": [
    {
     "name": "stdout",
     "output_type": "stream",
     "text": [
      "\n",
      "\n",
      "##### InfoGraph #####\n",
      "Dataset initialization\n",
      "\t # features: 18\n",
      "Encoder initialization\n",
      "\t input dim: 18\n",
      "\t hidden dim: 32\n",
      "\t # layers: 2\n",
      "\t projection dim: None\n",
      "\t activation: <class 'torch.nn.modules.activation.ReLU'>\n"
     ]
    },
    {
     "name": "stderr",
     "output_type": "stream",
     "text": [
      "100%|██████████| 100/100 [00:06<00:00, 16.28it/s]it/s, loss=-2.19]\n",
      "(T): 100%|██████████| 100/100 [00:06<00:00, 16.27it/s, loss=-2.19]\n",
      "c:\\Users\\alexa\\anaconda3\\envs\\gcl-py311-cu121\\Lib\\site-packages\\sklearn\\svm\\_base.py:1237: ConvergenceWarning: Liblinear failed to converge, increase the number of iterations.\n",
      "  warnings.warn(\n",
      "c:\\Users\\alexa\\anaconda3\\envs\\gcl-py311-cu121\\Lib\\site-packages\\sklearn\\svm\\_base.py:1237: ConvergenceWarning: Liblinear failed to converge, increase the number of iterations.\n",
      "  warnings.warn(\n",
      "c:\\Users\\alexa\\anaconda3\\envs\\gcl-py311-cu121\\Lib\\site-packages\\sklearn\\svm\\_base.py:1237: ConvergenceWarning: Liblinear failed to converge, increase the number of iterations.\n",
      "  warnings.warn(\n",
      "c:\\Users\\alexa\\anaconda3\\envs\\gcl-py311-cu121\\Lib\\site-packages\\sklearn\\svm\\_base.py:1237: ConvergenceWarning: Liblinear failed to converge, increase the number of iterations.\n",
      "  warnings.warn(\n",
      "c:\\Users\\alexa\\anaconda3\\envs\\gcl-py311-cu121\\Lib\\site-packages\\sklearn\\svm\\_base.py:1237: ConvergenceWarning: Liblinear failed to converge, increase the number of iterations.\n",
      "  warnings.warn(\n",
      "c:\\Users\\alexa\\anaconda3\\envs\\gcl-py311-cu121\\Lib\\site-packages\\sklearn\\svm\\_base.py:1237: ConvergenceWarning: Liblinear failed to converge, increase the number of iterations.\n",
      "  warnings.warn(\n",
      "c:\\Users\\alexa\\anaconda3\\envs\\gcl-py311-cu121\\Lib\\site-packages\\sklearn\\svm\\_base.py:1237: ConvergenceWarning: Liblinear failed to converge, increase the number of iterations.\n",
      "  warnings.warn(\n"
     ]
    },
    {
     "name": "stdout",
     "output_type": "stream",
     "text": [
      "(E): Best test F1Mi=0.6571, F1Ma=0.6500\n",
      "\n",
      "\n",
      "##### TransductiveDGI #####\n",
      "Dataset initialization\n",
      "\t # features: 1433\n",
      "Encoder initialization\n",
      "\t input dim: 1433\n",
      "\t hidden dim: 512\n",
      "\t # layers: 2\n",
      "\t projection dim: None\n",
      "\t activation: None\n"
     ]
    },
    {
     "name": "stderr",
     "output_type": "stream",
     "text": [
      "100%|██████████| 300/300 [00:10<00:00, 28.22it/s]it/s, loss=-1.36]   \n",
      "(T): 100%|██████████| 300/300 [00:10<00:00, 28.21it/s, loss=-1.36]\n",
      "(LR): 100%|██████████| 5000/5000 [00:07<00:00, best test F1Mi=0.857, F1Ma=0.815]\n"
     ]
    },
    {
     "name": "stdout",
     "output_type": "stream",
     "text": [
      "(E): Best test F1Mi=0.8566, F1Ma=0.8150\n",
      "\n",
      "\n",
      "##### GRACE #####\n",
      "Dataset initialization\n",
      "\t # features: 1433\n",
      "Encoder initialization\n",
      "\t input dim: 1433\n",
      "\t hidden dim: 32\n",
      "\t # layers: 2\n",
      "\t projection dim: 32\n",
      "\t activation: <class 'torch.nn.modules.activation.ReLU'>\n"
     ]
    },
    {
     "name": "stderr",
     "output_type": "stream",
     "text": [
      "(T):   0%|          | 0/1000 [00:00<?, ?it/s]c:\\Users\\alexa\\anaconda3\\envs\\gcl-py311-cu121\\Lib\\site-packages\\torch_geometric\\deprecation.py:26: UserWarning: 'dropout_adj' is deprecated, use 'dropout_edge' instead\n",
      "  warnings.warn(out)\n",
      "100%|██████████| 1000/1000 [00:36<00:00, 27.06it/s]t/s, loss=3.99]\n",
      "(T): 100%|██████████| 1000/1000 [00:36<00:00, 27.05it/s, loss=3.99]\n",
      "(LR): 100%|██████████| 5000/5000 [00:07<00:00, best test F1Mi=0.743, F1Ma=0.714]"
     ]
    },
    {
     "name": "stdout",
     "output_type": "stream",
     "text": [
      "(E): Best test F1Mi=0.7426, F1Ma=0.7143\n"
     ]
    },
    {
     "name": "stderr",
     "output_type": "stream",
     "text": [
      "\n"
     ]
    }
   ],
   "source": [
    "for strategy in STRATEGIES[\"strategies\"]:\n",
    "\n",
    "    print(\"\\n\")\n",
    "\n",
    "    # Initialization\n",
    "    pipeline = GCLPipeline.from_strategy(strategy, DEVICE)\n",
    "\n",
    "    # Data\n",
    "    dataset, num_features = GCLPipeline.init_dataset(\n",
    "        strategy[\"dataset\"], DATA_PATH, T.NormalizeFeatures(), strategy[\"batch_size\"]\n",
    "    )\n",
    "    \n",
    "    # Encoder\n",
    "    encoder_params = strategy[\"encoder_params\"]\n",
    "    encoder_params[\"input_dim\"] = num_features\n",
    "    encoder_model = pipeline.init_encoder(encoder_params, DEVICE)\n",
    "\n",
    "    # Training\n",
    "    train_params = strategy[\"train_params\"]\n",
    "    lr = train_params[\"learning_rate\"]\n",
    "    epochs = train_params[\"epochs\"]\n",
    "\n",
    "    optimizer = Adam(encoder_model.parameters(), lr=lr)\n",
    "    losses = []\n",
    "\n",
    "    with tqdm(total=epochs, desc='(T)') as pbar:\n",
    "        for epoch in tqdm(range(1, epochs+1)):\n",
    "            loss = pipeline.train_epoch(\n",
    "                encoder_model, dataset, optimizer, DEVICE\n",
    "            )\n",
    "            pbar.set_postfix({'loss': loss})\n",
    "\n",
    "            pbar.update()\n",
    "\n",
    "    test_result = pipeline.test(encoder_model, dataset, DEVICE)\n",
    "    print(f'(E): Best test F1Mi={test_result[\"micro_f1\"]:.4f}, F1Ma={test_result[\"macro_f1\"]:.4f}')\n"
   ]
  },
  {
   "cell_type": "code",
   "execution_count": 4,
   "metadata": {},
   "outputs": [],
   "source": [
    "del STRATEGIES"
   ]
  },
  {
   "cell_type": "code",
   "execution_count": 13,
   "metadata": {},
   "outputs": [],
   "source": [
    "testlist = [None, None]\n",
    "testlist= [\"a\", \"b\"]\n",
    "if not testlist:\n",
    "    print(1)\n"
   ]
  },
  {
   "cell_type": "code",
   "execution_count": 12,
   "metadata": {},
   "outputs": [
    {
     "data": {
      "text/plain": [
       "24.0"
      ]
     },
     "execution_count": 12,
     "metadata": {},
     "output_type": "execute_result"
    }
   ],
   "source": [
    "from multipledispatch import dispatch\n",
    "\n",
    "@dispatch(float, float, float)\n",
    "def product(a, b, c):\n",
    "    return a*b*c\n",
    "\n",
    "@dispatch(int, int)\n",
    "def product(a, b):\n",
    "    return a*b\n",
    "\n",
    "product(2.0, 3.0, 4.0)"
   ]
  },
  {
   "cell_type": "code",
   "execution_count": 5,
   "metadata": {},
   "outputs": [
    {
     "data": {
      "text/plain": [
       "ReLU()"
      ]
     },
     "execution_count": 5,
     "metadata": {},
     "output_type": "execute_result"
    }
   ],
   "source": [
    "\n",
    "import torch. nn as nn\n",
    "\n",
    "activation_func = getattr(nn, \"ReLU\", None)()\n",
    "activation_func\n",
    "    # if activation_func is not None:\n",
    "    #     return activation_func()\n",
    "    # else:\n",
    "    #     raise ValueError(f\"Unknown activation function: {name}\")"
   ]
  }
 ],
 "metadata": {
  "kernelspec": {
   "display_name": "gcl-py311-cu121",
   "language": "python",
   "name": "python3"
  },
  "language_info": {
   "codemirror_mode": {
    "name": "ipython",
    "version": 3
   },
   "file_extension": ".py",
   "mimetype": "text/x-python",
   "name": "python",
   "nbconvert_exporter": "python",
   "pygments_lexer": "ipython3",
   "version": "3.11.8"
  }
 },
 "nbformat": 4,
 "nbformat_minor": 2
}
