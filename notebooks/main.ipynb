{
 "cells": [
  {
   "cell_type": "code",
   "execution_count": 1,
   "metadata": {},
   "outputs": [],
   "source": [
    "import sys\n",
    "sys.path.append('../src')\n",
    "from pipeline import GCLPipeline\n",
    "\n",
    "import os.path as osp\n",
    "import json\n",
    "\n",
    "import torch\n",
    "import torch_geometric.transforms as T\n",
    "\n",
    "DATA_PATH = \"../data\"\n",
    "BENCHMARK_PATH = \"../benchmark\""
   ]
  },
  {
   "cell_type": "code",
   "execution_count": 2,
   "metadata": {},
   "outputs": [],
   "source": [
    "STRATEGIES = json.load(open(osp.join(BENCHMARK_PATH, \"benchmark.json\")))\n",
    "CONFIG = STRATEGIES[\"config\"]\n",
    "TRY_GPU = CONFIG[\"try_gpu\"]\n",
    "DEVICE = torch.device(\"cuda\" if torch.cuda.is_available() and TRY_GPU else \"cpu\")"
   ]
  },
  {
   "cell_type": "code",
   "execution_count": 3,
   "metadata": {},
   "outputs": [],
   "source": [
    "for strategy in STRATEGIES[\"strategies\"]:\n",
    "\n",
    "    pipeline = GCLPipeline.from_strategy(strategy)\n",
    "    dataset = GCLPipeline.init_dataset(strategy[\"dataset\"], DATA_PATH, T.NormalizeFeatures())\n",
    "    \n",
    "    encoder_params = strategy[\"encoder_params\"]\n",
    "    encoder_params[\"input_dim\"] = dataset.num_features\n",
    "    encoder_params[\"device\"] = DEVICE\n",
    "    encoder_model = pipeline.init_encoder(encoder_params)\n",
    "    # pipeline.train(dataset)\n"
   ]
  },
  {
   "cell_type": "code",
   "execution_count": 4,
   "metadata": {},
   "outputs": [
    {
     "name": "stdout",
     "output_type": "stream",
     "text": [
      "DGIEncoder(\n",
      "  (encoder): DGIInductiveGConv(\n",
      "    (layers): ModuleList(\n",
      "      (0): SAGEConv(1433, 512, aggr=mean)\n",
      "      (1-2): 2 x SAGEConv(512, 512, aggr=mean)\n",
      "    )\n",
      "    (activations): ModuleList(\n",
      "      (0-2): 3 x PReLU(num_parameters=512)\n",
      "    )\n",
      "  )\n",
      "  (project): Linear(in_features=512, out_features=512, bias=True)\n",
      ")\n"
     ]
    }
   ],
   "source": [
    "print(encoder_model)"
   ]
  }
 ],
 "metadata": {
  "kernelspec": {
   "display_name": "gcl-py311-cu121",
   "language": "python",
   "name": "python3"
  },
  "language_info": {
   "codemirror_mode": {
    "name": "ipython",
    "version": 3
   },
   "file_extension": ".py",
   "mimetype": "text/x-python",
   "name": "python",
   "nbconvert_exporter": "python",
   "pygments_lexer": "ipython3",
   "version": "3.11.8"
  }
 },
 "nbformat": 4,
 "nbformat_minor": 2
}
