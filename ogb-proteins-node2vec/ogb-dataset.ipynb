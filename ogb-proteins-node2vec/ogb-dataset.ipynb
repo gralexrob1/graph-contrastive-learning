{
 "cells": [
  {
   "cell_type": "code",
   "execution_count": null,
   "metadata": {},
   "outputs": [],
   "source": [
    "\"\"\"\n",
    "Graph: \n",
    "The ogbn-proteins dataset is an undirected, weighted, and typed \n",
    "(according to species) graph. Nodes represent proteins, and edges \n",
    "indicate different types of biologically meaningful associations \n",
    "between proteins, e.g., physical interactions, co-expression or \n",
    "homology [1,2]. All edges come with 8-dimensional features, where \n",
    "each dimension represents the approximate confidence of a single \n",
    "association type and takes values between 0 and 1 (the larger the \n",
    "value is, the more confident we are about the association). The \n",
    "proteins come from 8 species.\n",
    "\n",
    "Prediction task: \n",
    "The task is to predict the presence of protein functions in a \n",
    "multi-label binary classification setup, where there are 112 kinds \n",
    "of labels to predict in total. The performance is measured by the \n",
    "average of ROC-AUC scores across the 112 tasks.\n",
    "\n",
    "Dataset splitting: \n",
    "We split the protein nodes into training/validation/test sets \n",
    "according to the species which the proteins come from. This enables \n",
    "the evaluation of the generalization performance of the model across \n",
    "different species.\n",
    "\"\"\"\n",
    "\n",
    "\"\"\"\n",
    "edges:\n",
    "undirected\n",
    "weighted\n",
    "typed \n",
    "8-dimensional features\n",
    "\"\"\""
   ]
  },
  {
   "cell_type": "code",
   "execution_count": null,
   "metadata": {},
   "outputs": [],
   "source": [
    "import torch\n",
    "\n",
    "from ogb.nodeproppred import PygNodePropPredDataset\n",
    "from torch_geometric.data import Data"
   ]
  },
  {
   "cell_type": "code",
   "execution_count": null,
   "metadata": {},
   "outputs": [],
   "source": [
    "proteins_dataset = PygNodePropPredDataset(name=\"ogbn-proteins\")\n",
    "\n",
    "split_idx = proteins_dataset.get_idx_split()\n",
    "train_idx, valid_idx, test_idx = split_idx[\"train\"], split_idx[\"valid\"], split_idx[\"test\"]\n",
    "graph = proteins_dataset[0] # pyg graph object\n",
    "\n",
    "graph\n",
    "# Data(num_nodes=132534, edge_index=[2, 79122504], edge_attr=[79122504, 8], node_species=[132534, 1], y=[132534, 112])\n",
    "\n",
    "graph.x\n",
    "# None\n",
    "\n",
    "graph.edge_attr[0]\n",
    "# tensor([0.5010, 0.0010, 0.0010, 0.0010, 0.0010, 0.0010, 0.0010, 0.0010])\n",
    "\n",
    "graph.y[0]\n",
    "# tensor([1, 1, 1, 1, 1, 1, 1, 1, 1, 1, 1, 1, 0, 1, 0, 0, 1, 1, 1, 1, 0, 1, 1, 1,\n",
    "#         1, 0, 1, 1, 0, 0, 0, 0, 0, 0, 1, 0, 0, 0, 0, 1, 1, 0, 0, 1, 0, 1, 1, 1,\n",
    "#         1, 0, 0, 1, 0, 0, 0, 0, 1, 0, 0, 0, 1, 0, 0, 0, 1, 1, 0, 0, 0, 1, 0, 0,\n",
    "#         0, 0, 0, 0, 1, 0, 0, 0, 0, 0, 0, 1, 1, 0, 1, 0, 0, 0, 0, 0, 0, 0, 0, 0,\n",
    "#         0, 0, 0, 0, 0, 0, 0, 0, 0, 0, 0, 0, 0, 0, 0, 0])\n",
    "\n",
    "train_graph = graph.subgraph(train_idx)\n",
    "train_graph\n",
    "# Data(num_nodes=86619, edge_index=[2, 40846716], edge_attr=[40846716, 8], node_species=[86619, 1], y=[86619, 112])"
   ]
  },
  {
   "cell_type": "code",
   "execution_count": null,
   "metadata": {},
   "outputs": [],
   "source": [
    "node_embedding = torch.load(\"embedding.pt\")\n",
    "node_embedding.shape\n",
    "# torch.Size([132534, 32])\n",
    "\n",
    "train_node_embedding = node_embedding[train_idx]\n",
    "train_node_embedding.shape\n",
    "# torch.Size([86619, 32])"
   ]
  },
  {
   "cell_type": "code",
   "execution_count": null,
   "metadata": {},
   "outputs": [],
   "source": [
    "enriched_dataset = Data(\n",
    "    num_nodes = train_graph.num_nodes,\n",
    "    edge_index = train_graph.edge_index,\n",
    "    edge_attr = train_graph.edge_attr,\n",
    "    node_species = train_graph.node_species,\n",
    "    x = train_node_embedding,\n",
    "    y = train_graph.y\n",
    ")\n",
    "enriched_dataset\n",
    "# Data(x=[86619, 32], edge_index=[2, 40846716], edge_attr=[40846716, 8], y=[86619, 112], num_nodes=86619, node_species=[86619, 1])"
   ]
  }
 ],
 "metadata": {
  "kernelspec": {
   "display_name": "gcl-py311-cu121",
   "language": "python",
   "name": "python3"
  },
  "language_info": {
   "codemirror_mode": {
    "name": "ipython",
    "version": 3
   },
   "file_extension": ".py",
   "mimetype": "text/x-python",
   "name": "python",
   "nbconvert_exporter": "python",
   "pygments_lexer": "ipython3",
   "version": "3.11.8"
  }
 },
 "nbformat": 4,
 "nbformat_minor": 2
}
