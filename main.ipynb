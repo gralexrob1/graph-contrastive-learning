{
 "cells": [
  {
   "cell_type": "code",
   "execution_count": 10,
   "metadata": {},
   "outputs": [],
   "source": [
    "import sys\n",
    "\n",
    "sys.path.append(\"./src\")\n",
    "\n",
    "from pipeline import GCLPipeline\n",
    "\n",
    "import os\n",
    "import os.path as osp\n",
    "import json\n",
    "import pandas as pd\n",
    "\n",
    "import torch\n",
    "import torch_geometric.transforms as T\n",
    "\n",
    "from torch.optim import Adam\n",
    "\n",
    "from tqdm import tqdm\n",
    "\n",
    "import warnings\n",
    "\n",
    "warnings.filterwarnings(\"ignore\", category=FutureWarning)\n",
    "\n",
    "DATA_PATH = \"./data\"\n",
    "BENCHMARK_PATH = \"./benchmark\"\n",
    "\n",
    "OUTPUT_FOLDER = \"./output\"\n",
    "OUTPUT_FILE = \"output.csv\"\n",
    "OUTPUT_PATH = osp.join(OUTPUT_FOLDER, OUTPUT_FILE)"
   ]
  },
  {
   "cell_type": "code",
   "execution_count": 18,
   "metadata": {},
   "outputs": [],
   "source": [
    "# STRATEGIES = json.load(open(osp.join(BENCHMARK_PATH, \"benchmark.json\")))\n",
    "# STRATEGIES = json.load(open(osp.join(BENCHMARK_PATH, \"infograph_benchmark.json\")))\n",
    "STRATEGIES = json.load(open(osp.join(BENCHMARK_PATH, \"dgi_benchmark.json\")))"
   ]
  },
  {
   "cell_type": "code",
   "execution_count": 19,
   "metadata": {},
   "outputs": [],
   "source": [
    "CONFIG = STRATEGIES[\"config\"]\n",
    "TRY_GPU = CONFIG[\"try_gpu\"]\n",
    "DEVICE = torch.device(\"cuda\" if torch.cuda.is_available() and TRY_GPU else \"cpu\")"
   ]
  },
  {
   "cell_type": "code",
   "execution_count": 20,
   "metadata": {},
   "outputs": [
    {
     "name": "stdout",
     "output_type": "stream",
     "text": [
      "\n",
      "\n",
      "##### TransductiveDGI #####\n",
      "Dataset initialization\n",
      "\t # features: 1433\n",
      "Encoder initialization\n",
      "\t input dim: 1433\n",
      "\t hidden dim: 512\n",
      "\t # layers: 2\n",
      "\t projection dim: None\n",
      "\t activation: None\n"
     ]
    },
    {
     "name": "stderr",
     "output_type": "stream",
     "text": [
      "100%|██████████| 300/300 [00:12<00:00, 24.77it/s]it/s, loss=-1.34]  \n",
      "(T): 100%|██████████| 300/300 [00:12<00:00, 24.77it/s, loss=-1.34]\n",
      "(LR): 100%|██████████| 5000/5000 [00:16<00:00, best test F1Mi=0.831, F1Ma=0.775]"
     ]
    },
    {
     "name": "stdout",
     "output_type": "stream",
     "text": [
      "(E): Best test F1Mi=0.8309, F1Ma=0.7747\n"
     ]
    },
    {
     "name": "stderr",
     "output_type": "stream",
     "text": [
      "\n"
     ]
    }
   ],
   "source": [
    "outputs = []\n",
    "\n",
    "for strategy in STRATEGIES[\"strategies\"]:\n",
    "\n",
    "    print(\"\\n\")\n",
    "\n",
    "    # Initialization\n",
    "    pipeline = GCLPipeline.from_strategy(strategy, DEVICE)\n",
    "\n",
    "    # Data\n",
    "    dataset, num_features = GCLPipeline.init_dataset(\n",
    "        strategy[\"dataset\"], DATA_PATH, T.NormalizeFeatures(), strategy[\"batch_size\"]\n",
    "    )\n",
    "    \n",
    "    # Encoder\n",
    "    encoder_params = strategy[\"encoder_params\"]\n",
    "    encoder_params[\"input_dim\"] = num_features\n",
    "    encoder_model = pipeline.init_encoder(encoder_params, DEVICE)\n",
    "\n",
    "    # Training\n",
    "    train_params = strategy[\"train_params\"]\n",
    "    lr = train_params[\"learning_rate\"]\n",
    "    epochs = train_params[\"epochs\"]\n",
    "\n",
    "    optimizer = Adam(encoder_model.parameters(), lr=lr)\n",
    "    losses = []\n",
    "\n",
    "    with tqdm(total=epochs, desc='(T)') as pbar:\n",
    "        for epoch in tqdm(range(1, epochs+1)):\n",
    "            loss = pipeline.train_epoch(\n",
    "                encoder_model, dataset, optimizer, DEVICE\n",
    "            )\n",
    "            pbar.set_postfix({'loss': loss})\n",
    "\n",
    "            pbar.update()\n",
    "\n",
    "    test_result = pipeline.test(encoder_model, dataset, DEVICE)\n",
    "    print(f'(E): Best test F1Mi={test_result[\"micro_f1\"]:.4f}, F1Ma={test_result[\"macro_f1\"]:.4f}')\n",
    "\n",
    "    outputs.append({\n",
    "        \"Data\": strategy[\"dataset\"],\n",
    "        \"Method\": strategy[\"method\"],\n",
    "        \"Archi\": strategy[\"architecture\"],\n",
    "        \"Mode\": strategy[\"mode\"],\n",
    "        \"Obj\": strategy[\"objective\"],\n",
    "        \"Neg\": strategy[\"negative\"],\n",
    "\n",
    "        \"Aug1\": strategy[\"augmentation1\"],\n",
    "        \"Aug1Strat\": strategy[\"augmentation1_strat\"], \n",
    "        \"Aug2\": strategy[\"negative\"],\n",
    "        \"Aug2Strat\": strategy[\"negative\"], \n",
    "        \"MicroF1\": test_result[\"micro_f1\"].round(2),\n",
    "        \"MacroF1\": test_result[\"macro_f1\"].round(2)\n",
    "    })\n",
    "\n"
   ]
  },
  {
   "cell_type": "code",
   "execution_count": 21,
   "metadata": {},
   "outputs": [
    {
     "data": {
      "text/html": [
       "<div>\n",
       "<style scoped>\n",
       "    .dataframe tbody tr th:only-of-type {\n",
       "        vertical-align: middle;\n",
       "    }\n",
       "\n",
       "    .dataframe tbody tr th {\n",
       "        vertical-align: top;\n",
       "    }\n",
       "\n",
       "    .dataframe thead th {\n",
       "        text-align: right;\n",
       "    }\n",
       "</style>\n",
       "<table border=\"1\" class=\"dataframe\">\n",
       "  <thead>\n",
       "    <tr style=\"text-align: right;\">\n",
       "      <th></th>\n",
       "      <th>Data</th>\n",
       "      <th>Method</th>\n",
       "      <th>Archi</th>\n",
       "      <th>Mode</th>\n",
       "      <th>Obj</th>\n",
       "      <th>Neg</th>\n",
       "      <th>Aug1</th>\n",
       "      <th>Aug1Strat</th>\n",
       "      <th>Aug2</th>\n",
       "      <th>Aug2Strat</th>\n",
       "      <th>MicroF1</th>\n",
       "      <th>MacroF1</th>\n",
       "    </tr>\n",
       "  </thead>\n",
       "  <tbody>\n",
       "    <tr>\n",
       "      <th>0</th>\n",
       "      <td>Cora</td>\n",
       "      <td>TransductiveDGI</td>\n",
       "      <td>SingleBranch</td>\n",
       "      <td>G2L</td>\n",
       "      <td>JSD</td>\n",
       "      <td>None</td>\n",
       "      <td>None</td>\n",
       "      <td>Compose</td>\n",
       "      <td>None</td>\n",
       "      <td>None</td>\n",
       "      <td>0.83</td>\n",
       "      <td>0.77</td>\n",
       "    </tr>\n",
       "  </tbody>\n",
       "</table>\n",
       "</div>"
      ],
      "text/plain": [
       "   Data           Method         Archi Mode  Obj   Neg  Aug1 Aug1Strat  Aug2  \\\n",
       "0  Cora  TransductiveDGI  SingleBranch  G2L  JSD  None  None   Compose  None   \n",
       "\n",
       "  Aug2Strat  MicroF1  MacroF1  \n",
       "0      None     0.83     0.77  "
      ]
     },
     "execution_count": 21,
     "metadata": {},
     "output_type": "execute_result"
    }
   ],
   "source": [
    "output_df = pd.DataFrame(outputs)\n",
    "output_df"
   ]
  },
  {
   "cell_type": "code",
   "execution_count": 16,
   "metadata": {},
   "outputs": [],
   "source": [
    "# Deleting output file\n",
    "# os.remove(OUTPUT_PATH)"
   ]
  },
  {
   "cell_type": "code",
   "execution_count": 22,
   "metadata": {},
   "outputs": [],
   "source": [
    "# Adding rows\n",
    "output_df.to_csv(OUTPUT_PATH, mode='a', header=not osp.exists(OUTPUT_PATH), index=False)"
   ]
  }
 ],
 "metadata": {
  "kernelspec": {
   "display_name": "gcl-py311-cu121",
   "language": "python",
   "name": "python3"
  },
  "language_info": {
   "codemirror_mode": {
    "name": "ipython",
    "version": 3
   },
   "file_extension": ".py",
   "mimetype": "text/x-python",
   "name": "python",
   "nbconvert_exporter": "python",
   "pygments_lexer": "ipython3",
   "version": "3.11.8"
  }
 },
 "nbformat": 4,
 "nbformat_minor": 2
}
