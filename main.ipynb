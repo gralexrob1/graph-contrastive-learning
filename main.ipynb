{
 "cells": [
  {
   "cell_type": "code",
   "execution_count": 1,
   "metadata": {},
   "outputs": [],
   "source": [
    "import sys\n",
    "\n",
    "sys.path.append(\"./src\")\n",
    "\n",
    "from pipeline import GCLPipeline\n",
    "\n",
    "import os\n",
    "import os.path as osp\n",
    "import logging\n",
    "import json\n",
    "import pandas as pd\n",
    "\n",
    "import torch\n",
    "import torch_geometric.transforms as T\n",
    "\n",
    "from torch.optim import Adam\n",
    "\n",
    "from tqdm import tqdm\n",
    "\n",
    "import warnings\n",
    "warnings.filterwarnings(\"ignore\", category=FutureWarning)\n",
    "\n",
    "import logging\n",
    "# from importlib import reload\n",
    "# reload(logging)\n",
    "logger = logging.getLogger(__name__)\n",
    "logging.basicConfig(format='%(asctime)s %(levelname)s:%(message)s', level=logging.DEBUG, datefmt='%I:%M:%S')\n",
    "\n",
    "\n",
    "DATA_PATH = \"./data\"\n",
    "BENCHMARK_PATH = \"./benchmark\"\n",
    "\n",
    "OUTPUT_FOLDER = \"./output\"\n",
    "OUTPUT_FILE = \"output.csv\"\n",
    "OUTPUT_PATH = osp.join(OUTPUT_FOLDER, OUTPUT_FILE)"
   ]
  },
  {
   "cell_type": "code",
   "execution_count": 2,
   "metadata": {},
   "outputs": [],
   "source": [
    "# STRATEGIES = json.load(open(osp.join(BENCHMARK_PATH, \"benchmark.json\")))\n",
    "# STRATEGIES = json.load(open(osp.join(BENCHMARK_PATH, \"benchmark-infograph.json\")))\n",
    "# STRATEGIES = json.load(open(osp.join(BENCHMARK_PATH, \"benchmark-dgi.json\")))\n",
    "STRATEGIES = json.load(open(osp.join(BENCHMARK_PATH, \"benchmark-graphcl.json\")))\n",
    "# STRATEGIES[\"strategies\"]"
   ]
  },
  {
   "cell_type": "code",
   "execution_count": 3,
   "metadata": {},
   "outputs": [],
   "source": [
    "CONFIG = STRATEGIES[\"config\"]\n",
    "TRY_GPU = CONFIG[\"try_gpu\"]\n",
    "DEVICE = torch.device(\"cuda\" if torch.cuda.is_available() and TRY_GPU else \"cpu\")"
   ]
  },
  {
   "cell_type": "code",
   "execution_count": 4,
   "metadata": {},
   "outputs": [
    {
     "data": {
      "text/plain": [
       "'Identity'"
      ]
     },
     "execution_count": 4,
     "metadata": {},
     "output_type": "execute_result"
    }
   ],
   "source": [
    "import GCL.augmentors as A\n",
    "\n",
    "# A.RandomChoice([A.Identity, A.NodeDropping])\n",
    "A.Identity().__class__.__name__"
   ]
  },
  {
   "cell_type": "code",
   "execution_count": 13,
   "metadata": {},
   "outputs": [
    {
     "name": "stderr",
     "output_type": "stream",
     "text": [
      "07:25:40 INFO:##### GraphCL #####\n",
      "07:25:40 INFO:\t Augmentation strategy 1: None\n",
      "07:25:40 INFO:\t Augmentation strategy 2: Random\n",
      "07:25:40 INFO:CALL GCLPipeline.init_augmentations\n",
      "07:25:40 INFO:\t Strategy: None\n",
      "07:25:40 INFO:CALL GCLPipeline.init_augmentation\n",
      "07:25:40 INFO:\t Name: Identity\n",
      "07:25:40 INFO:CALL GCLPipeline.init_augmentations\n",
      "07:25:40 INFO:\t Strategy: Random\n",
      "07:25:40 INFO:CALL GCLPipeline.init_augmentation\n",
      "07:25:40 INFO:\t Name: RWSampling\n",
      "07:25:40 INFO:CALL GCLPipeline.init_augmentation\n",
      "07:25:40 INFO:\t Name: NodeDropping\n",
      "07:25:40 INFO:CALL GCLPipeline.init_augmentation\n",
      "07:25:40 INFO:\t Name: FeatureMasking\n",
      "07:25:40 INFO:CALL GCLPipeline.init_augmentation\n",
      "07:25:40 INFO:\t Name: EdgeRemoving\n",
      "07:25:40 INFO:Augmentations: [<GCL.augmentors.identity.Identity object at 0x000002231F68CD50>, <GCL.augmentors.augmentor.RandomChoice object at 0x000002231F8F8990>]\n",
      "07:25:40 INFO:CALL GCLPipeline.init_dataset\n",
      "07:25:40 DEBUG:open file: c:/Users/alexa/Documents/Visual Studio Code/graph-contrastive-learning/data/PTC_MR/processed/data.pt\n",
      "07:25:40 INFO:\t Number of features: 18\n",
      "07:25:40 INFO:CALL GCLPipeline.init_encoder\n",
      "07:25:40 INFO:\t Input dimension: 18\n",
      "07:25:40 INFO:\t Hidden dimension: 32\n",
      "07:25:40 INFO:\t Number of layers: 2\n",
      "07:25:40 INFO:\t Projection dimension: None\n",
      "07:25:40 INFO:\t Activation: None\n",
      "07:25:40 INFO:CALL GraphCLEncoder\n",
      "07:25:40 INFO:Encoder: GraphCLGConv(\n",
      "  (layers): ModuleList(\n",
      "    (0): GINConv(nn=Sequential(\n",
      "      (0): Linear(in_features=18, out_features=32, bias=True)\n",
      "      (1): ReLU()\n",
      "      (2): Linear(in_features=32, out_features=32, bias=True)\n",
      "    ))\n",
      "    (1): GINConv(nn=Sequential(\n",
      "      (0): Linear(in_features=32, out_features=32, bias=True)\n",
      "      (1): ReLU()\n",
      "      (2): Linear(in_features=32, out_features=32, bias=True)\n",
      "    ))\n",
      "  )\n",
      "  (batch_norms): ModuleList(\n",
      "    (0-1): 2 x BatchNorm1d(32, eps=1e-05, momentum=0.1, affine=True, track_running_stats=True)\n",
      "  )\n",
      "  (project): Sequential(\n",
      "    (0): Linear(in_features=64, out_features=64, bias=True)\n",
      "    (1): ReLU(inplace=True)\n",
      "    (2): Linear(in_features=64, out_features=64, bias=True)\n",
      "  )\n",
      ")\n",
      "07:25:40 INFO:Augmentor: (<GCL.augmentors.identity.Identity object at 0x000002231F68CD50>, <GCL.augmentors.augmentor.RandomChoice object at 0x000002231F8F8990>)\n"
     ]
    },
    {
     "name": "stdout",
     "output_type": "stream",
     "text": [
      "\n",
      "\n"
     ]
    },
    {
     "name": "stderr",
     "output_type": "stream",
     "text": [
      "(T):   1%|          | 1/100 [00:00<00:16,  6.05it/s, loss=7.41]c:\\Users\\alexa\\anaconda3\\envs\\gcl-py311-cu121\\Lib\\site-packages\\torch_geometric\\deprecation.py:26: UserWarning: 'dropout_adj' is deprecated, use 'dropout_edge' instead\n",
      "  warnings.warn(out)\n",
      "100%|██████████| 100/100 [00:07<00:00, 12.59it/s]t/s, loss=3.43]\n",
      "(T): 100%|██████████| 100/100 [00:07<00:00, 12.59it/s, loss=3.43]\n",
      "c:\\Users\\alexa\\anaconda3\\envs\\gcl-py311-cu121\\Lib\\site-packages\\sklearn\\svm\\_base.py:1237: ConvergenceWarning: Liblinear failed to converge, increase the number of iterations.\n",
      "  warnings.warn(\n",
      "c:\\Users\\alexa\\anaconda3\\envs\\gcl-py311-cu121\\Lib\\site-packages\\sklearn\\svm\\_base.py:1237: ConvergenceWarning: Liblinear failed to converge, increase the number of iterations.\n",
      "  warnings.warn(\n",
      "c:\\Users\\alexa\\anaconda3\\envs\\gcl-py311-cu121\\Lib\\site-packages\\sklearn\\svm\\_base.py:1237: ConvergenceWarning: Liblinear failed to converge, increase the number of iterations.\n",
      "  warnings.warn(\n",
      "c:\\Users\\alexa\\anaconda3\\envs\\gcl-py311-cu121\\Lib\\site-packages\\sklearn\\svm\\_base.py:1237: ConvergenceWarning: Liblinear failed to converge, increase the number of iterations.\n",
      "  warnings.warn(\n",
      "c:\\Users\\alexa\\anaconda3\\envs\\gcl-py311-cu121\\Lib\\site-packages\\sklearn\\svm\\_base.py:1237: ConvergenceWarning: Liblinear failed to converge, increase the number of iterations.\n",
      "  warnings.warn(\n",
      "c:\\Users\\alexa\\anaconda3\\envs\\gcl-py311-cu121\\Lib\\site-packages\\sklearn\\svm\\_base.py:1237: ConvergenceWarning: Liblinear failed to converge, increase the number of iterations.\n",
      "  warnings.warn(\n"
     ]
    },
    {
     "name": "stdout",
     "output_type": "stream",
     "text": [
      "(E): Best test F1Mi=0.5143, F1Ma=0.4875\n"
     ]
    }
   ],
   "source": [
    "outputs = []\n",
    "\n",
    "for strategy in STRATEGIES[\"strategies\"]:\n",
    "\n",
    "    print(\"\\n\")\n",
    "\n",
    "    # Initialization\n",
    "    pipeline = GCLPipeline.from_strategy(strategy, DEVICE)\n",
    "\n",
    "    # Data\n",
    "    dataset, num_features = GCLPipeline.init_dataset(\n",
    "        strategy[\"dataset\"], DATA_PATH, T.NormalizeFeatures(), strategy[\"batch_size\"]\n",
    "    )\n",
    "\n",
    "    # Encoder\n",
    "    encoder_params = strategy[\"encoder_params\"]\n",
    "    encoder_params[\"input_dim\"] = num_features\n",
    "    encoder_model = pipeline.init_encoder(encoder_params, DEVICE)\n",
    "\n",
    "    # Training\n",
    "    train_params = strategy[\"train_params\"]\n",
    "    lr = train_params[\"learning_rate\"]\n",
    "    epochs = train_params[\"epochs\"]\n",
    "\n",
    "    optimizer = Adam(encoder_model.parameters(), lr=lr)\n",
    "    losses = []\n",
    "\n",
    "    with tqdm(total=epochs, desc=\"(T)\") as pbar:\n",
    "        for epoch in tqdm(range(1, epochs + 1)):\n",
    "            loss = pipeline.train_epoch(encoder_model, dataset, optimizer, DEVICE)\n",
    "            pbar.set_postfix({\"loss\": loss})\n",
    "\n",
    "            pbar.update()\n",
    "\n",
    "    test_result = pipeline.test(encoder_model, dataset, DEVICE)\n",
    "    print(f'(E): Best test F1Mi={test_result[\"micro_f1\"]:.4f}, F1Ma={test_result[\"macro_f1\"]:.4f}')\n",
    "\n",
    "    outputs.append(\n",
    "        {\n",
    "            \"Data\": strategy[\"dataset\"],\n",
    "            \"Method\": strategy[\"method\"],\n",
    "            \"Archi\": strategy[\"architecture\"],\n",
    "            \"Mode\": strategy[\"mode\"],\n",
    "            \"Obj\": strategy[\"objective\"],\n",
    "            \"Neg\": strategy[\"negative\"],\n",
    "            \"Aug1\": (\n",
    "                strategy[\"augmentation1\"][\"name\"]\n",
    "                if isinstance(strategy[\"augmentation1\"], dict)\n",
    "                else ', '.join([a[\"name\"] for a in strategy[\"augmentation1\"]])\n",
    "            ),\n",
    "            \"Aug1Strat\": strategy[\"augmentation1_strat\"],\n",
    "            \"Aug2\": (\n",
    "                strategy[\"augmentation2\"][\"name\"]\n",
    "                if isinstance(strategy[\"augmentation2\"], dict)\n",
    "                else ', '.join([a[\"name\"] for a in strategy[\"augmentation2\"]])\n",
    "            ),\n",
    "            \"Aug2Strat\": strategy[\"augmentation2_strat\"],\n",
    "            \"MicroF1\": test_result[\"micro_f1\"].round(2),\n",
    "            \"MacroF1\": test_result[\"macro_f1\"].round(2),\n",
    "        }\n",
    "    )"
   ]
  },
  {
   "cell_type": "code",
   "execution_count": 14,
   "metadata": {},
   "outputs": [
    {
     "data": {
      "text/html": [
       "<div>\n",
       "<style scoped>\n",
       "    .dataframe tbody tr th:only-of-type {\n",
       "        vertical-align: middle;\n",
       "    }\n",
       "\n",
       "    .dataframe tbody tr th {\n",
       "        vertical-align: top;\n",
       "    }\n",
       "\n",
       "    .dataframe thead th {\n",
       "        text-align: right;\n",
       "    }\n",
       "</style>\n",
       "<table border=\"1\" class=\"dataframe\">\n",
       "  <thead>\n",
       "    <tr style=\"text-align: right;\">\n",
       "      <th></th>\n",
       "      <th>Data</th>\n",
       "      <th>Method</th>\n",
       "      <th>Archi</th>\n",
       "      <th>Mode</th>\n",
       "      <th>Obj</th>\n",
       "      <th>Neg</th>\n",
       "      <th>Aug1</th>\n",
       "      <th>Aug1Strat</th>\n",
       "      <th>Aug2</th>\n",
       "      <th>Aug2Strat</th>\n",
       "      <th>MicroF1</th>\n",
       "      <th>MacroF1</th>\n",
       "    </tr>\n",
       "  </thead>\n",
       "  <tbody>\n",
       "    <tr>\n",
       "      <th>0</th>\n",
       "      <td>PTC_MR</td>\n",
       "      <td>GraphCL</td>\n",
       "      <td>DualBranch</td>\n",
       "      <td>G2G</td>\n",
       "      <td>InfoNCE</td>\n",
       "      <td>None</td>\n",
       "      <td>Identity</td>\n",
       "      <td>None</td>\n",
       "      <td>RWSampling, NodeDropping, FeatureMasking, Edge...</td>\n",
       "      <td>Random</td>\n",
       "      <td>0.51</td>\n",
       "      <td>0.49</td>\n",
       "    </tr>\n",
       "  </tbody>\n",
       "</table>\n",
       "</div>"
      ],
      "text/plain": [
       "     Data   Method       Archi Mode      Obj   Neg      Aug1 Aug1Strat  \\\n",
       "0  PTC_MR  GraphCL  DualBranch  G2G  InfoNCE  None  Identity      None   \n",
       "\n",
       "                                                Aug2 Aug2Strat  MicroF1  \\\n",
       "0  RWSampling, NodeDropping, FeatureMasking, Edge...    Random     0.51   \n",
       "\n",
       "   MacroF1  \n",
       "0     0.49  "
      ]
     },
     "execution_count": 14,
     "metadata": {},
     "output_type": "execute_result"
    }
   ],
   "source": [
    "output_df = pd.DataFrame(outputs)\n",
    "output_df"
   ]
  },
  {
   "cell_type": "code",
   "execution_count": 16,
   "metadata": {},
   "outputs": [],
   "source": [
    "# Deleting output file\n",
    "# os.remove(OUTPUT_PATH)"
   ]
  },
  {
   "cell_type": "code",
   "execution_count": 15,
   "metadata": {},
   "outputs": [],
   "source": [
    "# Adding rows\n",
    "output_df.to_csv(OUTPUT_PATH, mode='a', header=not osp.exists(OUTPUT_PATH), index=False)"
   ]
  }
 ],
 "metadata": {
  "kernelspec": {
   "display_name": "gcl-py311-cu121",
   "language": "python",
   "name": "python3"
  },
  "language_info": {
   "codemirror_mode": {
    "name": "ipython",
    "version": 3
   },
   "file_extension": ".py",
   "mimetype": "text/x-python",
   "name": "python",
   "nbconvert_exporter": "python",
   "pygments_lexer": "ipython3",
   "version": "3.11.8"
  }
 },
 "nbformat": 4,
 "nbformat_minor": 2
}
