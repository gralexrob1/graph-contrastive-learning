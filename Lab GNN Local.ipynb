{
 "cells": [
  {
   "cell_type": "markdown",
   "id": "0cde7d07",
   "metadata": {},
   "source": [
    "# Graph Contrastic Learning Lab Project"
   ]
  },
  {
   "cell_type": "markdown",
   "id": "d5cba486",
   "metadata": {},
   "source": [
    "## Setting up the packages - not trivial"
   ]
  },
  {
   "cell_type": "code",
   "execution_count": 1,
   "id": "d0e62903",
   "metadata": {},
   "outputs": [],
   "source": [
    "# pip uninstall -y dgl dglgo PyGCL pyg_lib torch_scatter torch_sparse torch_cluster torch_spline_conv"
   ]
  },
  {
   "cell_type": "code",
   "execution_count": 2,
   "id": "77949aa4",
   "metadata": {},
   "outputs": [
    {
     "name": "stderr",
     "output_type": "stream",
     "text": [
      "/home/felix/.local/lib/python3.10/site-packages/tqdm/auto.py:22: TqdmWarning: IProgress not found. Please update jupyter and ipywidgets. See https://ipywidgets.readthedocs.io/en/stable/user_install.html\n",
      "  from .autonotebook import tqdm as notebook_tqdm\n"
     ]
    }
   ],
   "source": [
    "import torch\n",
    "# print(torch.__version__)"
   ]
  },
  {
   "cell_type": "markdown",
   "id": "bc0e3922",
   "metadata": {},
   "source": [
    "Same version must be used for the pip wheel installation of the torch related packages"
   ]
  },
  {
   "cell_type": "code",
   "execution_count": 3,
   "id": "6ab1a059",
   "metadata": {
    "scrolled": true
   },
   "outputs": [
    {
     "data": {
      "text/plain": [
       "<module 'GCL.losses' from '/home/felix/.local/lib/python3.10/site-packages/GCL/losses/__init__.py'>"
      ]
     },
     "execution_count": 3,
     "metadata": {},
     "output_type": "execute_result"
    }
   ],
   "source": [
    "# !pip install torch_geometric\n",
    "\n",
    "# # Optional dependencies:\n",
    "# !pip install pyg_lib torch_scatter torch_sparse torch_cluster torch_spline_conv -f https://data.pyg.org/whl/torch-1.13.1+cu117.html\n",
    "# !pip install  dgl==1.1.2  dglgo\n",
    "# !pip install PyGCL\n",
    "\n",
    "import GCL.losses as L\n",
    "\n",
    "L"
   ]
  },
  {
   "cell_type": "markdown",
   "id": "65c3858a",
   "metadata": {},
   "source": [
    "## JSON to GCL"
   ]
  },
  {
   "cell_type": "code",
   "execution_count": 18,
   "id": "33b1606a",
   "metadata": {},
   "outputs": [],
   "source": [
    "import json\n",
    "\n",
    "benchmark = json.load(open(\"benchmark.json\"))"
   ]
  },
  {
   "cell_type": "code",
   "execution_count": 12,
   "id": "8c758cb5",
   "metadata": {},
   "outputs": [
    {
     "data": {
      "text/plain": [
       "{'name': 'Default',\n",
       " 'strategy': 'DualBranch',\n",
       " 'mode': 'L2L',\n",
       " 'augmentations': ['EdgeRemoving', 'FeatureMasking', 'NodeDropping'],\n",
       " 'negative': None,\n",
       " 'architecture': ['DefaultGNN'],\n",
       " 'epochs': 1000,\n",
       " 'objective': 'InfoNCE'}"
      ]
     },
     "execution_count": 12,
     "metadata": {},
     "output_type": "execute_result"
    }
   ],
   "source": [
    "strategy = benchmark[\"strategies\"][0]\n",
    "strategy"
   ]
  },
  {
   "cell_type": "code",
   "execution_count": 13,
   "id": "47144656",
   "metadata": {},
   "outputs": [],
   "source": [
    "from torch import nn\n",
    "from tqdm import tqdm\n",
    "from torch.optim import Adam\n",
    "from GCL.eval import get_split, SVMEvaluator\n",
    "from GCL.models import DualBranchContrast\n",
    "from torch_geometric.nn import GINConv, global_add_pool\n",
    "from torch_geometric.data import DataLoader\n",
    "from torch_geometric.datasets import TUDataset\n",
    "\n",
    "\n",
    "def make_gin_conv(input_dim, out_dim):\n",
    "    return GINConv(nn.Sequential(nn.Linear(input_dim, out_dim), nn.ReLU(), nn.Linear(out_dim, out_dim)))\n",
    "\n",
    "\n",
    "class GConv(nn.Module):\n",
    "    def __init__(self, input_dim, hidden_dim, num_layers):\n",
    "        super(GConv, self).__init__()\n",
    "        self.layers = nn.ModuleList()\n",
    "        self.batch_norms = nn.ModuleList()\n",
    "\n",
    "        for i in range(num_layers):\n",
    "            if i == 0:\n",
    "                self.layers.append(make_gin_conv(input_dim, hidden_dim))\n",
    "            else:\n",
    "                self.layers.append(make_gin_conv(hidden_dim, hidden_dim))\n",
    "            self.batch_norms.append(nn.BatchNorm1d(hidden_dim))\n",
    "\n",
    "        project_dim = hidden_dim * num_layers\n",
    "        self.project = torch.nn.Sequential(\n",
    "            nn.Linear(project_dim, project_dim),\n",
    "            nn.ReLU(inplace=True),\n",
    "            nn.Linear(project_dim, project_dim))\n",
    "\n",
    "    def forward(self, x, edge_index, batch):\n",
    "        z = x\n",
    "        zs = []\n",
    "        for conv, bn in zip(self.layers, self.batch_norms):\n",
    "            z = conv(z, edge_index)\n",
    "            z = F.relu(z)\n",
    "            z = bn(z)\n",
    "            zs.append(z)\n",
    "        gs = [global_add_pool(z, batch) for z in zs]\n",
    "        z, g = [torch.cat(x, dim=1) for x in [zs, gs]]\n",
    "        return z, g\n",
    "\n",
    "\n",
    "class Encoder(torch.nn.Module):\n",
    "    def __init__(self, encoder, augmentor):\n",
    "        super(Encoder, self).__init__()\n",
    "        self.encoder = encoder\n",
    "        self.augmentor = augmentor\n",
    "\n",
    "    def forward(self, x, edge_index, batch):\n",
    "        aug1, aug2 = self.augmentor\n",
    "        x1, edge_index1, edge_weight1 = aug1(x, edge_index)\n",
    "        x2, edge_index2, edge_weight2 = aug2(x, edge_index)\n",
    "        z, g = self.encoder(x, edge_index, batch)\n",
    "        z1, g1 = self.encoder(x1, edge_index1, batch)\n",
    "        z2, g2 = self.encoder(x2, edge_index2, batch)\n",
    "        return z, g, z1, z2, g1, g2\n"
   ]
  },
  {
   "cell_type": "code",
   "execution_count": 16,
   "id": "63b770f1",
   "metadata": {},
   "outputs": [],
   "source": [
    "import GCL.losses as L\n",
    "import GCL.augmentors as A\n",
    "import GCL.models as M\n",
    "\n",
    "class GCLPipeline:\n",
    "    def __init__(self, mode, strategy, objective, augmentations, negative, architecture, epochs):\n",
    "        self.mode = mode\n",
    "        self.strategy = strategy\n",
    "        self.objective = objective\n",
    "        self.augmentations = augmentations\n",
    "        self.negative = negative\n",
    "        self.architecture = architecture\n",
    "        self.epochs = epochs\n",
    "\n",
    "    def gcl_objective_from_str(objective_name):\n",
    "        match objective_name:\n",
    "            case \"InfoNCE\":\n",
    "                return L.InfoNCE(tau=0.2)\n",
    "            case \"JSD\":\n",
    "                return L.JSD()\n",
    "            case \"Triplet\":\n",
    "                return L.TripletMargin()\n",
    "            case \"BootstrapLatent\":\n",
    "                return L.BootstrapLatent()\n",
    "            case \"BarlowTwins\":\n",
    "                return L.BarlowTwins()\n",
    "            case \"VICReg\":\n",
    "                return L.VICReg()\n",
    "            case _:\n",
    "                raise NameError(f\"Unknown objective name: {objective_name}\")\n",
    "    \n",
    "    def gcl_strategy_from_str(strategy_name, objective, mode):\n",
    "        match strategy_name:\n",
    "            case \"SingleBranch\":\n",
    "                return M.SingleBranchContrast(objective, mode)\n",
    "            case \"DualBranch\":\n",
    "                return M.DualBranchContrast(objective, mode)\n",
    "            case \"BootstrapBranch\":\n",
    "                return M.BootstrapContrast(objective, mode)\n",
    "            case \"WithinEmbed\":\n",
    "                return M.WithinEmbedContrast(objective)\n",
    "            case _:\n",
    "                raise NameError(f\"Unknown strategy name: {strategy_name}\")\n",
    "        \n",
    "    def gcl_augmentations_from_str(augmentation_name):\n",
    "        match augmentation_name:\n",
    "            case \"EdgeAdding\":\n",
    "                return A.EdgeAdding(pe=0.2) \n",
    "            case \"EdgeRemoving\":\n",
    "                return A.EdgeRemoving(pe=0.1)\n",
    "            case \"FeatureMasking\":\n",
    "                return A.FeatureMasking(pf=0.2)\n",
    "            case \"FeatureDropout\":\n",
    "                return A.FeatureDropout(pf=0.2)\n",
    "            case \"EdgeAttrMasking\":\n",
    "                return A.EdgeAttrMasking(pf=0.1)\n",
    "            case \"PPRDiffusion\":\n",
    "                return A.PPRDiffusion()\n",
    "            case \"MDK\":\n",
    "                return A.MarkovDiffusion() \n",
    "            case \"NodeDropping\":\n",
    "                return A.NodeDropping(pn=0.2)\n",
    "            case \"NodeShuffling\":\n",
    "                return A.NodeShuffling()\n",
    "            case \"RWSampling\":\n",
    "                return A.RWSampling()\n",
    "            case \"EgoNet\":\n",
    "                return A.Identity()\n",
    "            case _:\n",
    "                raise NameError(f\"Unknown augmentation name: {augmentation_name}\")\n",
    "        \n",
    "        \n",
    "    @classmethod\n",
    "    def from_strategy(cls, strategy):\n",
    "        # Retrieve arguments ; Provide default values / complete missing TODO\n",
    "        \n",
    "        strat = strategy[\"strategy\"] # ok\n",
    "        mode = strategy[\"mode\"] # TODO : training loop ?\n",
    "        objective = strategy[\"objective\"] # ok\n",
    "        augmentations = strategy[\"augmentations\"] # ok \n",
    "        negative = strategy[\"negative\"] # ok (no parsing to be done)\n",
    "        architecture = strategy[\"architecture\"] # TODO, import from other places ?\n",
    "        epochs = strategy[\"epochs\"] # ok (no parsing to be done)\n",
    "        \n",
    "        # Check validity of combination\n",
    "        # Architecture and objective\n",
    "         # Single branch and G2L only\n",
    "        assert(not (strat == \"SingleBranch\" and mode != \"G2L\"))\n",
    "         # DualBranch / Bootstrap and L2L, G2G, G2L only\n",
    "        assert(not (strat in [\"DualBranch\", \"Bootstrap\"] and mode not in [\"L2L\", \"G2G\", \"G2L\"]))\n",
    "        # Within embedding and  L2L / G2G only\n",
    "        assert(not (strat == \"WithinEmbedding\" and mode not in [\"L2L\", \"G2G\"]))\n",
    "        \n",
    "        # Convert objective\n",
    "        objective = GCLPipeline.gcl_objective_from_str(objective_name=objective)\n",
    "        # Convert strategy\n",
    "        strategy = GCLPipeline.gcl_strategy_from_str(strategy_name=strat, objective=objective, mode=mode) # This is a class to be initialized with args\n",
    "        # Convert augmentations ; TODO : how to tune their parameters ? Declare presets in another py file ?\n",
    "        # Use of a dictionary params:{} in the json for each augmentation\n",
    "        augmentations = A.RandomChoice([GCLPipeline.gcl_augmentations_from_str(aug) for aug in augmentations], 1)\n",
    "        \n",
    "        return cls(mode=mode,\n",
    "                   strategy=strat,\n",
    "                   objective=objective,\n",
    "                   augmentations=augmentations,\n",
    "                   negative=negative,\n",
    "                   architecture=architecture,\n",
    "                   epochs=epochs)\n",
    "    \n",
    "    def train(self, dataset):\n",
    "#         device = torch.device('cuda')\n",
    "        device = torch.device('cpu')\n",
    "        match self.strategy:\n",
    "            case \"SingleBranch\":\n",
    "                return GCL.models.SingleBranchContrast(objective, mode)\n",
    "            case \"DualBranch\":\n",
    "                \n",
    "                dataloader = DataLoader(dataset, batch_size=128)\n",
    "                input_dim = max(dataset.num_features, 1)\n",
    "\n",
    "                aug1 = A.Identity()\n",
    "                aug2 = self.augmentations\n",
    "                gconv = GConv(input_dim=input_dim, hidden_dim=32, num_layers=2).to(device)\n",
    "                # Model should be loaded from above as well\n",
    "                encoder_model = Encoder(encoder=gconv, augmentor=(aug1, aug2)).to(device)\n",
    "                contrast_model = M.DualBranchContrast(loss=L.InfoNCE(tau=0.2), mode='G2G').to(device)\n",
    "\n",
    "                optimizer = Adam(encoder_model.parameters(), lr=0.01)\n",
    "\n",
    "                with tqdm(total=self.epochs, desc='(T)') as pbar:\n",
    "                    for epoch in range(1, self.epochs + 1):\n",
    "                        loss = self.__train(encoder_model, contrast_model, dataloader, optimizer)\n",
    "                        pbar.set_postfix({'loss': loss})\n",
    "                        pbar.update()\n",
    "\n",
    "                test_result = self.test(encoder_model, dataloader)\n",
    "                print(f'(E): Best test F1Mi={test_result[\"micro_f1\"]:.4f}, F1Ma={test_result[\"macro_f1\"]:.4f}')\n",
    "                return test_result\n",
    "            case \"BootstrapBranch\":\n",
    "                return M.BootstrapContrast(objective, mode)\n",
    "            case \"WithinEmbed\":\n",
    "                return M.WithinEmbedContrast(objective)\n",
    "            case _:\n",
    "                raise NameError(f\"Unknown strategy name: {strategy}\")\n",
    "        \n",
    "        raise NotImplementedError()\n",
    "    \n",
    "    def __train(self, encoder_model, contrast_model, dataloader, optimizer):\n",
    "        encoder_model.train()\n",
    "        epoch_loss = 0\n",
    "        for data in dataloader:\n",
    "#             data = data.to('cuda')\n",
    "            optimizer.zero_grad()\n",
    "\n",
    "            if data.x is None:\n",
    "                print(\"data x is None\")\n",
    "                num_nodes = data.batch.size(0)\n",
    "                data.x = torch.ones((num_nodes, 1), dtype=torch.float32, device=data.batch.device)\n",
    "\n",
    "            _, _, _, _, g1, g2 = encoder_model(data.x, data.edge_index, data.batch)\n",
    "            g1, g2 = [encoder_model.encoder.project(g) for g in [g1, g2]]\n",
    "            loss = contrast_model(g1=g1, g2=g2, batch=data.batch)\n",
    "            loss.backward()\n",
    "            optimizer.step()\n",
    "\n",
    "            epoch_loss += loss.item()\n",
    "        return epoch_loss\n",
    "    \n",
    "    def test(self, encoder_model, dataloader):\n",
    "    \n",
    "        encoder_model.eval()\n",
    "        x = []\n",
    "        y = []\n",
    "        for data in dataloader:\n",
    "#             data = data.to('cuda')\n",
    "            if data.x is None:\n",
    "                num_nodes = data.batch.size(0)\n",
    "                data.x = torch.ones((num_nodes, 1), dtype=torch.float32, device=data.batch.device)\n",
    "            _, g, _, _, _, _ = encoder_model(data.x, data.edge_index, data.batch)\n",
    "            x.append(g)\n",
    "            y.append(data.y)\n",
    "        x = torch.cat(x, dim=0)\n",
    "        y = torch.cat(y, dim=0)\n",
    "\n",
    "        split = get_split(num_samples=x.size()[0], train_ratio=0.8, test_ratio=0.1)\n",
    "        result = SVMEvaluator(linear=True)(x, y, split)\n",
    "        return result\n",
    "\n",
    "    def evaluate(self):\n",
    "        raise NotImplementedError()\n",
    "        "
   ]
  },
  {
   "cell_type": "code",
   "execution_count": 24,
   "id": "c60c1061",
   "metadata": {
    "scrolled": true
   },
   "outputs": [
    {
     "name": "stderr",
     "output_type": "stream",
     "text": [
      "/home/felix/.local/lib/python3.10/site-packages/torch_geometric/deprecation.py:22: UserWarning: 'data.DataLoader' is deprecated, use 'loader.DataLoader' instead\n",
      "  warnings.warn(out)\n",
      "(T):   0%|                          | 3/1000 [00:00<01:09, 14.37it/s, loss=8.26]/home/felix/.local/lib/python3.10/site-packages/torch_geometric/deprecation.py:22: UserWarning: 'dropout_adj' is deprecated, use 'dropout_edge' instead\n",
      "  warnings.warn(out)\n",
      "(T): 100%|███████████████████████| 1000/1000 [00:57<00:00, 17.42it/s, loss=3.17]\n",
      "/home/felix/.local/lib/python3.10/site-packages/sklearn/svm/_base.py:1225: ConvergenceWarning: Liblinear failed to converge, increase the number of iterations.\n",
      "  warnings.warn(\n",
      "/home/felix/.local/lib/python3.10/site-packages/sklearn/svm/_base.py:1225: ConvergenceWarning: Liblinear failed to converge, increase the number of iterations.\n",
      "  warnings.warn(\n",
      "/home/felix/.local/lib/python3.10/site-packages/sklearn/svm/_base.py:1225: ConvergenceWarning: Liblinear failed to converge, increase the number of iterations.\n",
      "  warnings.warn(\n",
      "/home/felix/.local/lib/python3.10/site-packages/sklearn/svm/_base.py:1225: ConvergenceWarning: Liblinear failed to converge, increase the number of iterations.\n",
      "  warnings.warn(\n",
      "/home/felix/.local/lib/python3.10/site-packages/sklearn/svm/_base.py:1225: ConvergenceWarning: Liblinear failed to converge, increase the number of iterations.\n",
      "  warnings.warn(\n",
      "/home/felix/.local/lib/python3.10/site-packages/sklearn/svm/_base.py:1225: ConvergenceWarning: Liblinear failed to converge, increase the number of iterations.\n",
      "  warnings.warn(\n",
      "/home/felix/.local/lib/python3.10/site-packages/torch_geometric/deprecation.py:22: UserWarning: 'data.DataLoader' is deprecated, use 'loader.DataLoader' instead\n",
      "  warnings.warn(out)\n"
     ]
    },
    {
     "name": "stdout",
     "output_type": "stream",
     "text": [
      "(E): Best test F1Mi=0.4857, F1Ma=0.4293\n"
     ]
    },
    {
     "name": "stderr",
     "output_type": "stream",
     "text": [
      "(T):   0%|                                             | 0/1000 [00:00<?, ?it/s]/home/felix/.local/lib/python3.10/site-packages/torch_geometric/deprecation.py:22: UserWarning: 'dropout_adj' is deprecated, use 'dropout_edge' instead\n",
      "  warnings.warn(out)\n",
      "(T): 100%|███████████████████████| 1000/1000 [00:59<00:00, 16.95it/s, loss=3.23]\n",
      "/home/felix/.local/lib/python3.10/site-packages/sklearn/svm/_base.py:1225: ConvergenceWarning: Liblinear failed to converge, increase the number of iterations.\n",
      "  warnings.warn(\n",
      "/home/felix/.local/lib/python3.10/site-packages/sklearn/svm/_base.py:1225: ConvergenceWarning: Liblinear failed to converge, increase the number of iterations.\n",
      "  warnings.warn(\n",
      "/home/felix/.local/lib/python3.10/site-packages/sklearn/svm/_base.py:1225: ConvergenceWarning: Liblinear failed to converge, increase the number of iterations.\n",
      "  warnings.warn(\n",
      "/home/felix/.local/lib/python3.10/site-packages/sklearn/svm/_base.py:1225: ConvergenceWarning: Liblinear failed to converge, increase the number of iterations.\n",
      "  warnings.warn(\n",
      "/home/felix/.local/lib/python3.10/site-packages/sklearn/svm/_base.py:1225: ConvergenceWarning: Liblinear failed to converge, increase the number of iterations.\n",
      "  warnings.warn(\n",
      "/home/felix/.local/lib/python3.10/site-packages/sklearn/svm/_base.py:1225: ConvergenceWarning: Liblinear failed to converge, increase the number of iterations.\n",
      "  warnings.warn(\n",
      "/home/felix/.local/lib/python3.10/site-packages/sklearn/svm/_base.py:1225: ConvergenceWarning: Liblinear failed to converge, increase the number of iterations.\n",
      "  warnings.warn(\n",
      "/home/felix/.local/lib/python3.10/site-packages/torch_geometric/deprecation.py:22: UserWarning: 'data.DataLoader' is deprecated, use 'loader.DataLoader' instead\n",
      "  warnings.warn(out)\n"
     ]
    },
    {
     "name": "stdout",
     "output_type": "stream",
     "text": [
      "(E): Best test F1Mi=0.4571, F1Ma=0.4571\n"
     ]
    },
    {
     "name": "stderr",
     "output_type": "stream",
     "text": [
      "(T):   0%|                                  | 0/1000 [00:00<?, ?it/s, loss=7.31]/home/felix/.local/lib/python3.10/site-packages/torch_geometric/deprecation.py:22: UserWarning: 'dropout_adj' is deprecated, use 'dropout_edge' instead\n",
      "  warnings.warn(out)\n",
      "(T): 100%|███████████████████████| 1000/1000 [00:58<00:00, 17.00it/s, loss=3.09]\n",
      "/home/felix/.local/lib/python3.10/site-packages/sklearn/svm/_base.py:1225: ConvergenceWarning: Liblinear failed to converge, increase the number of iterations.\n",
      "  warnings.warn(\n",
      "/home/felix/.local/lib/python3.10/site-packages/sklearn/svm/_base.py:1225: ConvergenceWarning: Liblinear failed to converge, increase the number of iterations.\n",
      "  warnings.warn(\n",
      "/home/felix/.local/lib/python3.10/site-packages/sklearn/svm/_base.py:1225: ConvergenceWarning: Liblinear failed to converge, increase the number of iterations.\n",
      "  warnings.warn(\n",
      "/home/felix/.local/lib/python3.10/site-packages/sklearn/svm/_base.py:1225: ConvergenceWarning: Liblinear failed to converge, increase the number of iterations.\n",
      "  warnings.warn(\n",
      "/home/felix/.local/lib/python3.10/site-packages/sklearn/svm/_base.py:1225: ConvergenceWarning: Liblinear failed to converge, increase the number of iterations.\n",
      "  warnings.warn(\n",
      "/home/felix/.local/lib/python3.10/site-packages/sklearn/svm/_base.py:1225: ConvergenceWarning: Liblinear failed to converge, increase the number of iterations.\n",
      "  warnings.warn(\n",
      "/home/felix/.local/lib/python3.10/site-packages/sklearn/svm/_base.py:1225: ConvergenceWarning: Liblinear failed to converge, increase the number of iterations.\n",
      "  warnings.warn(\n",
      "/home/felix/.local/lib/python3.10/site-packages/torch_geometric/deprecation.py:22: UserWarning: 'data.DataLoader' is deprecated, use 'loader.DataLoader' instead\n",
      "  warnings.warn(out)\n"
     ]
    },
    {
     "name": "stdout",
     "output_type": "stream",
     "text": [
      "(E): Best test F1Mi=0.6000, F1Ma=0.5717\n"
     ]
    },
    {
     "name": "stderr",
     "output_type": "stream",
     "text": [
      "(T):   0%|                                  | 0/1000 [00:00<?, ?it/s, loss=7.95]/home/felix/.local/lib/python3.10/site-packages/torch_geometric/deprecation.py:22: UserWarning: 'dropout_adj' is deprecated, use 'dropout_edge' instead\n",
      "  warnings.warn(out)\n",
      "(T): 100%|███████████████████████| 1000/1000 [00:58<00:00, 17.09it/s, loss=3.07]\n",
      "/home/felix/.local/lib/python3.10/site-packages/sklearn/svm/_base.py:1225: ConvergenceWarning: Liblinear failed to converge, increase the number of iterations.\n",
      "  warnings.warn(\n",
      "/home/felix/.local/lib/python3.10/site-packages/sklearn/svm/_base.py:1225: ConvergenceWarning: Liblinear failed to converge, increase the number of iterations.\n",
      "  warnings.warn(\n",
      "/home/felix/.local/lib/python3.10/site-packages/sklearn/svm/_base.py:1225: ConvergenceWarning: Liblinear failed to converge, increase the number of iterations.\n",
      "  warnings.warn(\n",
      "/home/felix/.local/lib/python3.10/site-packages/sklearn/svm/_base.py:1225: ConvergenceWarning: Liblinear failed to converge, increase the number of iterations.\n",
      "  warnings.warn(\n",
      "/home/felix/.local/lib/python3.10/site-packages/sklearn/svm/_base.py:1225: ConvergenceWarning: Liblinear failed to converge, increase the number of iterations.\n",
      "  warnings.warn(\n",
      "/home/felix/.local/lib/python3.10/site-packages/sklearn/svm/_base.py:1225: ConvergenceWarning: Liblinear failed to converge, increase the number of iterations.\n",
      "  warnings.warn(\n",
      "/home/felix/.local/lib/python3.10/site-packages/sklearn/svm/_base.py:1225: ConvergenceWarning: Liblinear failed to converge, increase the number of iterations.\n",
      "  warnings.warn(\n",
      "/home/felix/.local/lib/python3.10/site-packages/torch_geometric/deprecation.py:22: UserWarning: 'data.DataLoader' is deprecated, use 'loader.DataLoader' instead\n",
      "  warnings.warn(out)\n"
     ]
    },
    {
     "name": "stdout",
     "output_type": "stream",
     "text": [
      "(E): Best test F1Mi=0.6571, F1Ma=0.6196\n"
     ]
    },
    {
     "name": "stderr",
     "output_type": "stream",
     "text": [
      "(T):   0%|                                             | 0/1000 [00:00<?, ?it/s]/home/felix/.local/lib/python3.10/site-packages/torch_geometric/deprecation.py:22: UserWarning: 'dropout_adj' is deprecated, use 'dropout_edge' instead\n",
      "  warnings.warn(out)\n",
      "(T): 100%|███████████████████████| 1000/1000 [00:55<00:00, 18.10it/s, loss=2.81]\n",
      "/home/felix/.local/lib/python3.10/site-packages/sklearn/svm/_base.py:1225: ConvergenceWarning: Liblinear failed to converge, increase the number of iterations.\n",
      "  warnings.warn(\n",
      "/home/felix/.local/lib/python3.10/site-packages/sklearn/svm/_base.py:1225: ConvergenceWarning: Liblinear failed to converge, increase the number of iterations.\n",
      "  warnings.warn(\n",
      "/home/felix/.local/lib/python3.10/site-packages/sklearn/svm/_base.py:1225: ConvergenceWarning: Liblinear failed to converge, increase the number of iterations.\n",
      "  warnings.warn(\n",
      "/home/felix/.local/lib/python3.10/site-packages/sklearn/svm/_base.py:1225: ConvergenceWarning: Liblinear failed to converge, increase the number of iterations.\n",
      "  warnings.warn(\n",
      "/home/felix/.local/lib/python3.10/site-packages/sklearn/svm/_base.py:1225: ConvergenceWarning: Liblinear failed to converge, increase the number of iterations.\n",
      "  warnings.warn(\n",
      "/home/felix/.local/lib/python3.10/site-packages/sklearn/svm/_base.py:1225: ConvergenceWarning: Liblinear failed to converge, increase the number of iterations.\n",
      "  warnings.warn(\n",
      "/home/felix/.local/lib/python3.10/site-packages/sklearn/svm/_base.py:1225: ConvergenceWarning: Liblinear failed to converge, increase the number of iterations.\n",
      "  warnings.warn(\n",
      "/home/felix/.local/lib/python3.10/site-packages/torch_geometric/deprecation.py:22: UserWarning: 'data.DataLoader' is deprecated, use 'loader.DataLoader' instead\n",
      "  warnings.warn(out)\n"
     ]
    },
    {
     "name": "stdout",
     "output_type": "stream",
     "text": [
      "(E): Best test F1Mi=0.5714, F1Ma=0.5714\n"
     ]
    },
    {
     "name": "stderr",
     "output_type": "stream",
     "text": [
      "(T):   0%|                                             | 0/1000 [00:00<?, ?it/s]/home/felix/.local/lib/python3.10/site-packages/torch_geometric/deprecation.py:22: UserWarning: 'dropout_adj' is deprecated, use 'dropout_edge' instead\n",
      "  warnings.warn(out)\n",
      "(T): 100%|████████████████████████| 1000/1000 [00:59<00:00, 16.83it/s, loss=3.1]\n",
      "/home/felix/.local/lib/python3.10/site-packages/sklearn/svm/_base.py:1225: ConvergenceWarning: Liblinear failed to converge, increase the number of iterations.\n",
      "  warnings.warn(\n",
      "/home/felix/.local/lib/python3.10/site-packages/sklearn/svm/_base.py:1225: ConvergenceWarning: Liblinear failed to converge, increase the number of iterations.\n",
      "  warnings.warn(\n",
      "/home/felix/.local/lib/python3.10/site-packages/sklearn/svm/_base.py:1225: ConvergenceWarning: Liblinear failed to converge, increase the number of iterations.\n",
      "  warnings.warn(\n",
      "/home/felix/.local/lib/python3.10/site-packages/sklearn/svm/_base.py:1225: ConvergenceWarning: Liblinear failed to converge, increase the number of iterations.\n",
      "  warnings.warn(\n",
      "/home/felix/.local/lib/python3.10/site-packages/sklearn/svm/_base.py:1225: ConvergenceWarning: Liblinear failed to converge, increase the number of iterations.\n",
      "  warnings.warn(\n",
      "/home/felix/.local/lib/python3.10/site-packages/sklearn/svm/_base.py:1225: ConvergenceWarning: Liblinear failed to converge, increase the number of iterations.\n",
      "  warnings.warn(\n",
      "/home/felix/.local/lib/python3.10/site-packages/sklearn/svm/_base.py:1225: ConvergenceWarning: Liblinear failed to converge, increase the number of iterations.\n",
      "  warnings.warn(\n",
      "/home/felix/.local/lib/python3.10/site-packages/torch_geometric/deprecation.py:22: UserWarning: 'data.DataLoader' is deprecated, use 'loader.DataLoader' instead\n",
      "  warnings.warn(out)\n"
     ]
    },
    {
     "name": "stdout",
     "output_type": "stream",
     "text": [
      "(E): Best test F1Mi=0.5143, F1Ma=0.5079\n"
     ]
    },
    {
     "name": "stderr",
     "output_type": "stream",
     "text": [
      "(T):   0%|                                             | 0/1000 [00:00<?, ?it/s]/home/felix/.local/lib/python3.10/site-packages/torch_geometric/deprecation.py:22: UserWarning: 'dropout_adj' is deprecated, use 'dropout_edge' instead\n",
      "  warnings.warn(out)\n",
      "(T): 100%|███████████████████████| 1000/1000 [01:00<00:00, 16.65it/s, loss=4.53]\n",
      "/home/felix/.local/lib/python3.10/site-packages/sklearn/svm/_base.py:1225: ConvergenceWarning: Liblinear failed to converge, increase the number of iterations.\n",
      "  warnings.warn(\n",
      "/home/felix/.local/lib/python3.10/site-packages/sklearn/svm/_base.py:1225: ConvergenceWarning: Liblinear failed to converge, increase the number of iterations.\n",
      "  warnings.warn(\n",
      "/home/felix/.local/lib/python3.10/site-packages/sklearn/svm/_base.py:1225: ConvergenceWarning: Liblinear failed to converge, increase the number of iterations.\n",
      "  warnings.warn(\n",
      "/home/felix/.local/lib/python3.10/site-packages/sklearn/svm/_base.py:1225: ConvergenceWarning: Liblinear failed to converge, increase the number of iterations.\n",
      "  warnings.warn(\n",
      "/home/felix/.local/lib/python3.10/site-packages/sklearn/svm/_base.py:1225: ConvergenceWarning: Liblinear failed to converge, increase the number of iterations.\n",
      "  warnings.warn(\n",
      "/home/felix/.local/lib/python3.10/site-packages/sklearn/svm/_base.py:1225: ConvergenceWarning: Liblinear failed to converge, increase the number of iterations.\n",
      "  warnings.warn(\n",
      "/home/felix/.local/lib/python3.10/site-packages/sklearn/svm/_base.py:1225: ConvergenceWarning: Liblinear failed to converge, increase the number of iterations.\n",
      "  warnings.warn(\n",
      "/home/felix/.local/lib/python3.10/site-packages/torch_geometric/deprecation.py:22: UserWarning: 'data.DataLoader' is deprecated, use 'loader.DataLoader' instead\n",
      "  warnings.warn(out)\n"
     ]
    },
    {
     "name": "stdout",
     "output_type": "stream",
     "text": [
      "(E): Best test F1Mi=0.5429, F1Ma=0.5105\n"
     ]
    },
    {
     "name": "stderr",
     "output_type": "stream",
     "text": [
      "(T):   0%|                                  | 0/1000 [00:00<?, ?it/s, loss=6.25]/home/felix/.local/lib/python3.10/site-packages/torch_geometric/deprecation.py:22: UserWarning: 'dropout_adj' is deprecated, use 'dropout_edge' instead\n",
      "  warnings.warn(out)\n",
      "(T): 100%|███████████████████████| 1000/1000 [00:56<00:00, 17.74it/s, loss=3.62]\n",
      "/home/felix/.local/lib/python3.10/site-packages/sklearn/svm/_base.py:1225: ConvergenceWarning: Liblinear failed to converge, increase the number of iterations.\n",
      "  warnings.warn(\n",
      "/home/felix/.local/lib/python3.10/site-packages/sklearn/svm/_base.py:1225: ConvergenceWarning: Liblinear failed to converge, increase the number of iterations.\n",
      "  warnings.warn(\n",
      "/home/felix/.local/lib/python3.10/site-packages/sklearn/svm/_base.py:1225: ConvergenceWarning: Liblinear failed to converge, increase the number of iterations.\n",
      "  warnings.warn(\n",
      "/home/felix/.local/lib/python3.10/site-packages/sklearn/svm/_base.py:1225: ConvergenceWarning: Liblinear failed to converge, increase the number of iterations.\n",
      "  warnings.warn(\n",
      "/home/felix/.local/lib/python3.10/site-packages/sklearn/svm/_base.py:1225: ConvergenceWarning: Liblinear failed to converge, increase the number of iterations.\n",
      "  warnings.warn(\n",
      "/home/felix/.local/lib/python3.10/site-packages/sklearn/svm/_base.py:1225: ConvergenceWarning: Liblinear failed to converge, increase the number of iterations.\n",
      "  warnings.warn(\n",
      "/home/felix/.local/lib/python3.10/site-packages/sklearn/svm/_base.py:1225: ConvergenceWarning: Liblinear failed to converge, increase the number of iterations.\n",
      "  warnings.warn(\n",
      "/home/felix/.local/lib/python3.10/site-packages/torch_geometric/deprecation.py:22: UserWarning: 'data.DataLoader' is deprecated, use 'loader.DataLoader' instead\n",
      "  warnings.warn(out)\n"
     ]
    },
    {
     "name": "stdout",
     "output_type": "stream",
     "text": [
      "(E): Best test F1Mi=0.6286, F1Ma=0.5578\n"
     ]
    },
    {
     "name": "stderr",
     "output_type": "stream",
     "text": [
      "(T):   0%|                          | 2/1000 [00:00<00:54, 18.47it/s, loss=8.01]/home/felix/.local/lib/python3.10/site-packages/torch_geometric/deprecation.py:22: UserWarning: 'dropout_adj' is deprecated, use 'dropout_edge' instead\n",
      "  warnings.warn(out)\n",
      "(T): 100%|███████████████████████| 1000/1000 [00:57<00:00, 17.47it/s, loss=2.72]\n",
      "/home/felix/.local/lib/python3.10/site-packages/sklearn/svm/_base.py:1225: ConvergenceWarning: Liblinear failed to converge, increase the number of iterations.\n",
      "  warnings.warn(\n",
      "/home/felix/.local/lib/python3.10/site-packages/sklearn/svm/_base.py:1225: ConvergenceWarning: Liblinear failed to converge, increase the number of iterations.\n",
      "  warnings.warn(\n",
      "/home/felix/.local/lib/python3.10/site-packages/sklearn/svm/_base.py:1225: ConvergenceWarning: Liblinear failed to converge, increase the number of iterations.\n",
      "  warnings.warn(\n",
      "/home/felix/.local/lib/python3.10/site-packages/sklearn/svm/_base.py:1225: ConvergenceWarning: Liblinear failed to converge, increase the number of iterations.\n",
      "  warnings.warn(\n",
      "/home/felix/.local/lib/python3.10/site-packages/sklearn/svm/_base.py:1225: ConvergenceWarning: Liblinear failed to converge, increase the number of iterations.\n",
      "  warnings.warn(\n",
      "/home/felix/.local/lib/python3.10/site-packages/sklearn/svm/_base.py:1225: ConvergenceWarning: Liblinear failed to converge, increase the number of iterations.\n",
      "  warnings.warn(\n",
      "/home/felix/.local/lib/python3.10/site-packages/sklearn/svm/_base.py:1225: ConvergenceWarning: Liblinear failed to converge, increase the number of iterations.\n",
      "  warnings.warn(\n",
      "/home/felix/.local/lib/python3.10/site-packages/torch_geometric/deprecation.py:22: UserWarning: 'data.DataLoader' is deprecated, use 'loader.DataLoader' instead\n",
      "  warnings.warn(out)\n"
     ]
    },
    {
     "name": "stdout",
     "output_type": "stream",
     "text": [
      "(E): Best test F1Mi=0.4857, F1Ma=0.4750\n"
     ]
    },
    {
     "name": "stderr",
     "output_type": "stream",
     "text": [
      "(T):   0%|                                             | 0/1000 [00:00<?, ?it/s]/home/felix/.local/lib/python3.10/site-packages/torch_geometric/deprecation.py:22: UserWarning: 'dropout_adj' is deprecated, use 'dropout_edge' instead\n",
      "  warnings.warn(out)\n",
      "(T): 100%|███████████████████████| 1000/1000 [00:59<00:00, 16.90it/s, loss=2.88]\n",
      "/home/felix/.local/lib/python3.10/site-packages/sklearn/svm/_base.py:1225: ConvergenceWarning: Liblinear failed to converge, increase the number of iterations.\n",
      "  warnings.warn(\n",
      "/home/felix/.local/lib/python3.10/site-packages/sklearn/svm/_base.py:1225: ConvergenceWarning: Liblinear failed to converge, increase the number of iterations.\n",
      "  warnings.warn(\n",
      "/home/felix/.local/lib/python3.10/site-packages/sklearn/svm/_base.py:1225: ConvergenceWarning: Liblinear failed to converge, increase the number of iterations.\n",
      "  warnings.warn(\n",
      "/home/felix/.local/lib/python3.10/site-packages/sklearn/svm/_base.py:1225: ConvergenceWarning: Liblinear failed to converge, increase the number of iterations.\n",
      "  warnings.warn(\n",
      "/home/felix/.local/lib/python3.10/site-packages/sklearn/svm/_base.py:1225: ConvergenceWarning: Liblinear failed to converge, increase the number of iterations.\n",
      "  warnings.warn(\n",
      "/home/felix/.local/lib/python3.10/site-packages/sklearn/svm/_base.py:1225: ConvergenceWarning: Liblinear failed to converge, increase the number of iterations.\n",
      "  warnings.warn(\n"
     ]
    },
    {
     "name": "stdout",
     "output_type": "stream",
     "text": [
      "(E): Best test F1Mi=0.5143, F1Ma=0.4218\n"
     ]
    },
    {
     "data": {
      "text/html": [
       "<div>\n",
       "<style scoped>\n",
       "    .dataframe tbody tr th:only-of-type {\n",
       "        vertical-align: middle;\n",
       "    }\n",
       "\n",
       "    .dataframe tbody tr th {\n",
       "        vertical-align: top;\n",
       "    }\n",
       "\n",
       "    .dataframe thead th {\n",
       "        text-align: right;\n",
       "    }\n",
       "</style>\n",
       "<table border=\"1\" class=\"dataframe\">\n",
       "  <thead>\n",
       "    <tr style=\"text-align: right;\">\n",
       "      <th></th>\n",
       "      <th>Default</th>\n",
       "      <th>Default - JSD</th>\n",
       "    </tr>\n",
       "  </thead>\n",
       "  <tbody>\n",
       "    <tr>\n",
       "      <th>0</th>\n",
       "      <td>{'micro_f1': 0.4857142857142857, 'macro_f1': 0...</td>\n",
       "      <td>{'micro_f1': 0.5142857142857142, 'macro_f1': 0...</td>\n",
       "    </tr>\n",
       "    <tr>\n",
       "      <th>1</th>\n",
       "      <td>{'micro_f1': 0.45714285714285713, 'macro_f1': ...</td>\n",
       "      <td>{'micro_f1': 0.5428571428571428, 'macro_f1': 0...</td>\n",
       "    </tr>\n",
       "    <tr>\n",
       "      <th>2</th>\n",
       "      <td>{'micro_f1': 0.6, 'macro_f1': 0.5716783216783217}</td>\n",
       "      <td>{'micro_f1': 0.6285714285714286, 'macro_f1': 0...</td>\n",
       "    </tr>\n",
       "    <tr>\n",
       "      <th>3</th>\n",
       "      <td>{'micro_f1': 0.6571428571428571, 'macro_f1': 0...</td>\n",
       "      <td>{'micro_f1': 0.4857142857142857, 'macro_f1': 0...</td>\n",
       "    </tr>\n",
       "    <tr>\n",
       "      <th>4</th>\n",
       "      <td>{'micro_f1': 0.5714285714285714, 'macro_f1': 0...</td>\n",
       "      <td>{'micro_f1': 0.5142857142857142, 'macro_f1': 0...</td>\n",
       "    </tr>\n",
       "  </tbody>\n",
       "</table>\n",
       "</div>"
      ],
      "text/plain": [
       "                                             Default  \\\n",
       "0  {'micro_f1': 0.4857142857142857, 'macro_f1': 0...   \n",
       "1  {'micro_f1': 0.45714285714285713, 'macro_f1': ...   \n",
       "2  {'micro_f1': 0.6, 'macro_f1': 0.5716783216783217}   \n",
       "3  {'micro_f1': 0.6571428571428571, 'macro_f1': 0...   \n",
       "4  {'micro_f1': 0.5714285714285714, 'macro_f1': 0...   \n",
       "\n",
       "                                       Default - JSD  \n",
       "0  {'micro_f1': 0.5142857142857142, 'macro_f1': 0...  \n",
       "1  {'micro_f1': 0.5428571428571428, 'macro_f1': 0...  \n",
       "2  {'micro_f1': 0.6285714285714286, 'macro_f1': 0...  \n",
       "3  {'micro_f1': 0.4857142857142857, 'macro_f1': 0...  \n",
       "4  {'micro_f1': 0.5142857142857142, 'macro_f1': 0...  "
      ]
     },
     "execution_count": 24,
     "metadata": {},
     "output_type": "execute_result"
    }
   ],
   "source": [
    "import os.path as osp\n",
    "import GCL.losses as L\n",
    "import GCL.augmentors as A\n",
    "import torch.nn.functional as F\n",
    "import pandas as pd\n",
    "# Stick to the example for demo\n",
    "path = osp.join(osp.expanduser('~'), 'datasets')\n",
    "dataset = TUDataset(path, name='PTC_MR')\n",
    "results = {}\n",
    "for strategy in benchmark[\"strategies\"]:\n",
    "    results[strategy[\"name\"]] = []\n",
    "    for run_i in range(5):\n",
    "        pipeline = GCLPipeline.from_strategy(strategy)\n",
    "        pipeline_results = pipeline.train(dataset)\n",
    "        results[strategy[\"name\"]].append(pipeline_results)\n",
    "\n",
    "df_results = pd.DataFrame(results)\n",
    "df_results"
   ]
  },
  {
   "cell_type": "code",
   "execution_count": 20,
   "id": "bdfddb2e",
   "metadata": {},
   "outputs": [],
   "source": [
    "# from torch_geometric.datasets import PPI\n",
    "\n",
    "# dataset_ppi = PPI(\"/home/felix/mscai/.data\")"
   ]
  },
  {
   "cell_type": "code",
   "execution_count": null,
   "id": "f6fe082e",
   "metadata": {},
   "outputs": [],
   "source": []
  }
 ],
 "metadata": {
  "kernelspec": {
   "display_name": "mscai-labproject",
   "language": "python",
   "name": "mscai-labproject"
  },
  "language_info": {
   "codemirror_mode": {
    "name": "ipython",
    "version": 3
   },
   "file_extension": ".py",
   "mimetype": "text/x-python",
   "name": "python",
   "nbconvert_exporter": "python",
   "pygments_lexer": "ipython3",
   "version": "3.10.12"
  }
 },
 "nbformat": 4,
 "nbformat_minor": 5
}
